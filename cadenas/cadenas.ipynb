{
  "nbformat": 4,
  "nbformat_minor": 0,
  "metadata": {
    "colab": {
      "provenance": [],
      "authorship_tag": "ABX9TyMqV0tI3s06I3aUtQY1k5/w",
      "include_colab_link": true
    },
    "kernelspec": {
      "name": "python3",
      "display_name": "Python 3"
    },
    "language_info": {
      "name": "python"
    }
  },
  "cells": [
    {
      "cell_type": "markdown",
      "metadata": {
        "id": "view-in-github",
        "colab_type": "text"
      },
      "source": [
        "<a href=\"https://colab.research.google.com/github/Juansecod/aprende-con-ALF/blob/main/cadenas/cadenas.ipynb\" target=\"_parent\"><img src=\"https://colab.research.google.com/assets/colab-badge.svg\" alt=\"Open In Colab\"/></a>"
      ]
    },
    {
      "cell_type": "markdown",
      "source": [
        "# **Ejercicio 1**\n",
        "Escribir un programa que pregunte el nombre del usuario en la consola y un número entero e imprima por pantalla en líneas distintas el nombre del usuario tantas veces como el número introducido."
      ],
      "metadata": {
        "id": "MpA1Qh1j5D9B"
      }
    },
    {
      "cell_type": "code",
      "execution_count": null,
      "metadata": {
        "colab": {
          "base_uri": "https://localhost:8080/"
        },
        "id": "cSWwMKpz4RAA",
        "outputId": "1b93a0c3-a459-45fa-9810-c729d00873ba"
      },
      "outputs": [
        {
          "output_type": "stream",
          "name": "stdout",
          "text": [
            "Como te llamas? Juan sebastian\n",
            "Ingrese un numero: 1\n",
            "Juan Sebastian\n"
          ]
        }
      ],
      "source": [
        "nombre = input(\"Como te llamas? \")\n",
        "n = int(input(\"Ingrese un numero: \"))\n",
        "\n",
        "for i in range(0, n):\n",
        "  print(nombre.title())"
      ]
    },
    {
      "cell_type": "markdown",
      "source": [
        "# **Ejercicio 2**\n",
        "Escribir un programa que pregunte el nombre completo del usuario en la consola y después muestre por pantalla el nombre completo del usuario tres veces, una con todas las letras minúsculas, otra con todas las letras mayúsculas y otra solo con la primera letra del nombre y de los apellidos en mayúscula. El usuario puede introducir su nombre combinando mayúsculas y minúsculas como quiera."
      ],
      "metadata": {
        "id": "skhJVP-C5NCg"
      }
    },
    {
      "cell_type": "code",
      "source": [
        "nombre = input(\"Nombre completo: \")\n",
        "\n",
        "print(nombre.lower())\n",
        "print(nombre.upper())\n",
        "print(nombre.title())"
      ],
      "metadata": {
        "colab": {
          "base_uri": "https://localhost:8080/"
        },
        "id": "RqJloxSy5Q8v",
        "outputId": "459c4728-18ed-4936-83d8-53ec687776d1"
      },
      "execution_count": null,
      "outputs": [
        {
          "output_type": "stream",
          "name": "stdout",
          "text": [
            "Nombre completo: Juan rios valencia\n",
            "juan rios valencia\n",
            "JUAN RIOS VALENCIA\n",
            "Juan Rios Valencia\n"
          ]
        }
      ]
    },
    {
      "cell_type": "markdown",
      "source": [
        "# **Ejercicio 3**\n",
        "Escribir un programa que pregunte el nombre del usuario en la consola y después de que el usuario lo introduzca muestre por pantalla `<NOMBRE>` tiene `<n>` letras, donde `<NOMBRE>` es el nombre de usuario en mayúsculas y `<n>` es el número de letras que tienen el nombre."
      ],
      "metadata": {
        "id": "JidPtrvwGESu"
      }
    },
    {
      "cell_type": "code",
      "source": [
        "nombre = input(\"Ingrese su nombre: \")\n",
        "print(f\"{nombre.upper()} tiene {len(nombre)} letras\")"
      ],
      "metadata": {
        "colab": {
          "base_uri": "https://localhost:8080/"
        },
        "id": "f0i_lhzVGS1O",
        "outputId": "e1b70a54-32c4-4826-aa4a-b6b22e6de70d"
      },
      "execution_count": null,
      "outputs": [
        {
          "output_type": "stream",
          "name": "stdout",
          "text": [
            "Ingrese su nombre: Juan\n",
            "JUAN tiene 4 letras\n"
          ]
        }
      ]
    },
    {
      "cell_type": "markdown",
      "source": [
        "# **Ejercicio 4**\n",
        "Los teléfonos de una empresa tienen el siguiente formato *prefijo-número-extension* donde el prefijo es el código del país +34, y la extensión tiene dos dígitos (por ejemplo +34-913724710-56). Escribir un programa que pregunte por un número de teléfono con este formato y muestre por pantalla el número de teléfono sin el prefijo y la extensión."
      ],
      "metadata": {
        "id": "5O4cpmGBGmcM"
      }
    },
    {
      "cell_type": "code",
      "source": [
        "telefono = input(\"ingrese el telefono con el formato +xx-xxxxxxxxx-xx: \")\n",
        "\n",
        "print(f\"El número de teléfono es {telefono[4:-3]}\")"
      ],
      "metadata": {
        "colab": {
          "base_uri": "https://localhost:8080/"
        },
        "id": "e2VHlUgaG5T3",
        "outputId": "cc117776-06c0-4875-dc39-6f836a23ee63"
      },
      "execution_count": null,
      "outputs": [
        {
          "output_type": "stream",
          "name": "stdout",
          "text": [
            "ingrese el telefono con el formato +xx-xxxxxxxxx-xx: +xx-xxxxxxxxx-xx\n",
            "El número de teléfono es xxxxxxxxx\n"
          ]
        }
      ]
    },
    {
      "cell_type": "markdown",
      "source": [
        "# **Ejercicio 5**\n",
        "Escribir un programa que pida al usuario que introduzca una frase en la consola y muestre por pantalla la frase invertida."
      ],
      "metadata": {
        "id": "V6OPx7z4H2dA"
      }
    },
    {
      "cell_type": "code",
      "source": [
        "frase = input(\"Escriba una frase: \")\n",
        "print(frase[::-1])"
      ],
      "metadata": {
        "colab": {
          "base_uri": "https://localhost:8080/"
        },
        "id": "kJI8n8hjIAho",
        "outputId": "e47ef0d8-ab48-4769-99db-ea6428de98d7"
      },
      "execution_count": null,
      "outputs": [
        {
          "output_type": "stream",
          "name": "stdout",
          "text": [
            "Escriba una frase: Hola mundo\n",
            "odnum aloH\n"
          ]
        }
      ]
    },
    {
      "cell_type": "markdown",
      "source": [
        "# **Ejercicio 6**\n",
        "Escribir un programa que pida al usuario que introduzca una frase en la consola y una vocal, y después muestre por pantalla la misma frase pero con la vocal introducida en mayúscula."
      ],
      "metadata": {
        "id": "vIzsMfViJGkf"
      }
    },
    {
      "cell_type": "code",
      "source": [
        "VOCALES = [\"a\",\"e\",\"i\",\"o\",\"u\"]\n",
        "\n",
        "frase = input(\"Escriba una frase: \")\n",
        "vocal = input(\"Ingrese una vocal: \")\n",
        "\n",
        "if vocal.upper not in VOCALES:\n",
        "  print(\"ERROR: no es una vocal\")\n",
        "else:\n",
        "  print(frase.replace(vocal, vocal.upper()))"
      ],
      "metadata": {
        "colab": {
          "base_uri": "https://localhost:8080/"
        },
        "id": "36BKJCuNJJhV",
        "outputId": "433f20bc-04ee-424f-a0e0-971de4d29ede"
      },
      "execution_count": null,
      "outputs": [
        {
          "output_type": "stream",
          "name": "stdout",
          "text": [
            "Escriba una frase: Juan\n",
            "Ingrese una vocal: h\n",
            "ERROR: no es una vocal\n"
          ]
        }
      ]
    },
    {
      "cell_type": "markdown",
      "source": [
        "# **Ejercicio 7**\n",
        "Escribir un programa que pregunte el correo electrónico del usuario en la consola y muestre por pantalla otro correo electrónico con el mismo nombre (la parte delante de la arroba *@*) pero con dominio *ceu.es*."
      ],
      "metadata": {
        "id": "OJ2lJJaWKAqs"
      }
    },
    {
      "cell_type": "code",
      "source": [
        "correo = input(\"Ingrese el correo electronico: \")\n",
        "nuevo_correo = correo.split(\"@\")[0] + \"@ceu.es\"\n",
        "print(nuevo_correo)"
      ],
      "metadata": {
        "colab": {
          "base_uri": "https://localhost:8080/"
        },
        "id": "7ctj962-KSUJ",
        "outputId": "e331f12d-4497-49f8-dd2f-55342bc46225"
      },
      "execution_count": null,
      "outputs": [
        {
          "output_type": "stream",
          "name": "stdout",
          "text": [
            "juan@ceu.es\n"
          ]
        }
      ]
    },
    {
      "cell_type": "markdown",
      "source": [
        "# **Ejercicio 8**\n",
        "Escribir un programa que pregunte por consola el precio de un producto en euros con dos decimales y muestre por pantalla el número de euros y el número de céntimos del precio introducido."
      ],
      "metadata": {
        "id": "Nkf8rxpXLZex"
      }
    },
    {
      "cell_type": "code",
      "source": [
        "precio = input(\"Ingrese el precio en euros: \").split(\".\")\n",
        "if(len(precio) == 1):\n",
        "  precio.append(0)\n",
        "print(f\"El numero de euros es de {precio[0]} y de centimos es de {precio[1]}\")"
      ],
      "metadata": {
        "colab": {
          "base_uri": "https://localhost:8080/"
        },
        "id": "mCqJRy6DSUgh",
        "outputId": "d9a0493d-c57d-4bd8-dbab-231ee843672d"
      },
      "execution_count": null,
      "outputs": [
        {
          "output_type": "stream",
          "name": "stdout",
          "text": [
            "Ingrese el precio en euros: 10\n",
            "El numero de euros es de 10 y de centimos es de 0\n"
          ]
        }
      ]
    },
    {
      "cell_type": "code",
      "source": [
        "## Solucion ALF ##\n",
        "precio = input(\"Introduce el precio del producto con dos decimales:  \")\n",
        "print(precio[:precio.find('.')], 'euros y', precio[precio.find('.')+1:], 'céntimos.')"
      ],
      "metadata": {
        "colab": {
          "base_uri": "https://localhost:8080/"
        },
        "id": "3v-RMfZRTUc-",
        "outputId": "ffabc965-93d0-4147-9d7e-1e73714ea2e6"
      },
      "execution_count": null,
      "outputs": [
        {
          "output_type": "stream",
          "name": "stdout",
          "text": [
            "Introduce el precio del producto con dos decimales:  10\n",
            "1 euros y 10 céntimos.\n"
          ]
        }
      ]
    },
    {
      "cell_type": "markdown",
      "source": [
        "# **Ejercicio 9**\n",
        "Escribir un programa que pregunte al usuario la fecha de su nacimiento en formato dd/mm/aaaa y muestra por pantalla, el día, el mes y el año. "
      ],
      "metadata": {
        "id": "LkpooecfWB-7"
      }
    },
    {
      "cell_type": "code",
      "source": [
        "nacimiento = input(\"Ingrese su fecha de nacimiento con el formato dd/mm/aaaa: \").split(\"/\")\n",
        "\n",
        "print(f\"\"\"dia: {nacimiento[0]}\n",
        "mes: {nacimiento[1]}\n",
        "año: {nacimiento[2]}\"\"\")\n"
      ],
      "metadata": {
        "colab": {
          "base_uri": "https://localhost:8080/"
        },
        "id": "nZUc5iwCWPJz",
        "outputId": "34ab735d-8b8f-4847-b024-977597c104c6"
      },
      "execution_count": null,
      "outputs": [
        {
          "output_type": "stream",
          "name": "stdout",
          "text": [
            "Ingrese su fecha de nacimiento con el formato dd/mm/aaaa: 10/1/2022\n",
            "dia: 10\n",
            "mes: 1\n",
            "año: 2022\n",
            "\n"
          ]
        }
      ]
    },
    {
      "cell_type": "markdown",
      "source": [
        "Adaptar el programa del ejercicio 8 para que también funcione cuando el día o el mes se introduzcan con un solo carácter."
      ],
      "metadata": {
        "id": "AX4IOrE4Z3mm"
      }
    },
    {
      "cell_type": "code",
      "source": [
        "precio = input(\"Ingrese su fecha de nacimiento con el formato dd/mm/aaaa: \")\n",
        "index_first_match = precio.find(\"/\")\n",
        "index_second_match = precio.find(\"/\", index_first_match + 1)\n",
        "\n",
        "print('dia: ' , precio[:index_first_match], 'mes: ', precio[index_first_match + 1:index_second_match], 'año: ', precio[index_second_match + 1:])"
      ],
      "metadata": {
        "colab": {
          "base_uri": "https://localhost:8080/"
        },
        "id": "KsCGSU6aXRmF",
        "outputId": "d9093632-228b-4e02-fbe4-76dd9620960a"
      },
      "execution_count": null,
      "outputs": [
        {
          "output_type": "stream",
          "name": "stdout",
          "text": [
            "Ingrese su fecha de nacimiento con el formato dd/mm/aaaa: 1/1/1\n",
            "dia:  1 mes:  1 año:  1\n"
          ]
        }
      ]
    },
    {
      "cell_type": "markdown",
      "source": [
        "# **Ejercicio 10**\n",
        "Escribir un programa que pregunte por consola por los productos de una cesta de la compra, separados por comas, y muestre por pantalla cada uno de los productos en una línea distinta."
      ],
      "metadata": {
        "id": "xmcMGxhPZ_DC"
      }
    },
    {
      "cell_type": "code",
      "source": [
        "productos = input(\"Ingrese los productos separados por comas: \").split(\",\")\n",
        "\n",
        "for producto in productos:\n",
        "  print(producto.strip().capitalize())"
      ],
      "metadata": {
        "colab": {
          "base_uri": "https://localhost:8080/"
        },
        "id": "0wkCLgXIaJWB",
        "outputId": "d4483501-c645-4f6d-fa3c-71defd65ad0b"
      },
      "execution_count": null,
      "outputs": [
        {
          "output_type": "stream",
          "name": "stdout",
          "text": [
            "Ingrese los productos separados por comas: juan , juan,    juan\n",
            "Juan\n",
            "Juan\n",
            "Juan\n"
          ]
        }
      ]
    },
    {
      "cell_type": "code",
      "source": [
        "## Solucion ALF ##\n",
        "cesta = input('Introduce los productos de la cesta de la compra separados por comas: ')\n",
        "print(cesta.replace(',', '\\n'))"
      ],
      "metadata": {
        "id": "_J6ayNsFbEPH"
      },
      "execution_count": null,
      "outputs": []
    },
    {
      "cell_type": "markdown",
      "source": [
        "# **Ejercicio 11**\n",
        "Escribir un programa que pregunte el nombre de un producto, su precio y un número de unidades y muestre por pantalla una cadena con el nombre del producto seguido de su precio unitario con 6 dígitos enteros y 2 decimales, el número de unidades con tres dígitos y el coste total con 8 dígitos enteros y 2 decimales."
      ],
      "metadata": {
        "id": "DhUuBRx5bO7O"
      }
    },
    {
      "cell_type": "code",
      "source": [
        "producto = input('Introduce el nombre del producto: ')\n",
        "precio = float(input('Introducde el precio unitario: '))\n",
        "unidades = int(input('Introduce el número de unidades: '))\n",
        "\n",
        "print('{producto}: {unidades:3d} unidades x {precio:9.2f}€ = {total:11.2f}€'.format(producto = producto, unidades = unidades, precio = precio, total = unidades * precio))"
      ],
      "metadata": {
        "id": "zktZ6nYHbpc6"
      },
      "execution_count": null,
      "outputs": []
    }
  ]
}