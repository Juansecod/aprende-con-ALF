{
  "nbformat": 4,
  "nbformat_minor": 0,
  "metadata": {
    "colab": {
      "provenance": [],
      "authorship_tag": "ABX9TyPFRK2vVWV19xH5bH2TbKE1",
      "include_colab_link": true
    },
    "kernelspec": {
      "name": "python3",
      "display_name": "Python 3"
    },
    "language_info": {
      "name": "python"
    }
  },
  "cells": [
    {
      "cell_type": "markdown",
      "metadata": {
        "id": "view-in-github",
        "colab_type": "text"
      },
      "source": [
        "<a href=\"https://colab.research.google.com/github/Juansecod/aprende-con-ALF/blob/main/listas_tuplas/listas_tuplas.ipynb\" target=\"_parent\"><img src=\"https://colab.research.google.com/assets/colab-badge.svg\" alt=\"Open In Colab\"/></a>"
      ]
    },
    {
      "cell_type": "markdown",
      "source": [
        "# **Ejercicio 1**\n",
        "Escribir un programa que almacene las asignaturas de un curso (por ejemplo Matemáticas, Física, Química, Historia y Lengua) en una lista y la muestre por pantalla."
      ],
      "metadata": {
        "id": "JNJhSj6OZib3"
      }
    },
    {
      "cell_type": "code",
      "execution_count": null,
      "metadata": {
        "colab": {
          "base_uri": "https://localhost:8080/"
        },
        "id": "_k6eELONZh6w",
        "outputId": "ae389994-be35-40ef-c1ce-ab6af79cf24d"
      },
      "outputs": [
        {
          "output_type": "stream",
          "name": "stdout",
          "text": [
            "Ingrese las asignaturas del curso separadas por comas: Matemáticas, Física, Química, Historia\n",
            "Arreglo materias:  ['Matemáticas', ' Física', ' Química', ' Historia']\n"
          ]
        }
      ],
      "source": [
        "materias = input(\"Ingrese las asignaturas del curso separadas por comas: \").split(\",\")\n",
        "print(\"Arreglo materias: \", materias)"
      ]
    },
    {
      "cell_type": "code",
      "source": [
        "## solucion aprende con Alf ##\n",
        "subjects = [\"Matemáticas\", \"Física\", \"Química\", \"Historia\", \"Lengua\"]\n",
        "print(subjects)"
      ],
      "metadata": {
        "id": "JBcyt2e3ajV4",
        "colab": {
          "base_uri": "https://localhost:8080/"
        },
        "outputId": "5f1cde25-08d0-471e-dfb0-78899cdac29d"
      },
      "execution_count": 1,
      "outputs": [
        {
          "output_type": "stream",
          "name": "stdout",
          "text": [
            "['Matemáticas', 'Física', 'Química', 'Historia', 'Lengua']\n"
          ]
        }
      ]
    },
    {
      "cell_type": "markdown",
      "source": [
        "# **Ejercicio 2**\n",
        "Escribir un programa que almacene las asignaturas de un curso (por ejemplo Matemáticas, Física, Química, Historia y Lengua) en una lista y la muestre por pantalla el mensaje `Yo estudio <asignatura>`, donde `<asignatura>` es cada una de las asignaturas de la lista."
      ],
      "metadata": {
        "id": "wkhe43ONakFo"
      }
    },
    {
      "cell_type": "code",
      "source": [
        "materias = input(\"Ingrese las asignaturas del curso separadas por comas: \").split(\",\")\n",
        "\n",
        "for materia in materias:\n",
        "  print(f\"Yo estudio {materia.strip().title()}\")"
      ],
      "metadata": {
        "colab": {
          "base_uri": "https://localhost:8080/"
        },
        "id": "Rs4-mt3Laj9R",
        "outputId": "3f4eb0bf-4153-4541-cf61-255972b3f6fc"
      },
      "execution_count": null,
      "outputs": [
        {
          "output_type": "stream",
          "name": "stdout",
          "text": [
            "Ingrese las asignaturas del curso separadas por comas: Matemáticas, Física, Química, Historia\n",
            "Yo estudio Matemáticas\n",
            "Yo estudio Física\n",
            "Yo estudio Química\n",
            "Yo estudio Historia\n"
          ]
        }
      ]
    },
    {
      "cell_type": "code",
      "source": [
        "## solucion aprende con Alf ##\n",
        "subjects = [\"Matemáticas\", \"Física\", \"Química\", \"Historia\", \"Lengua\"]\n",
        "for subject in subjects:\n",
        "    print(\"Yo estudio \" + subject)"
      ],
      "metadata": {
        "id": "YRe0EZbobClJ",
        "colab": {
          "base_uri": "https://localhost:8080/"
        },
        "outputId": "edee8e6d-cd92-4f4e-d1d2-ece908500e50"
      },
      "execution_count": 2,
      "outputs": [
        {
          "output_type": "stream",
          "name": "stdout",
          "text": [
            "Yo estudio Matemáticas\n",
            "Yo estudio Física\n",
            "Yo estudio Química\n",
            "Yo estudio Historia\n",
            "Yo estudio Lengua\n"
          ]
        }
      ]
    },
    {
      "cell_type": "markdown",
      "source": [
        "# **Ejercicio 3**\n",
        "Escribir un programa que almacene las asignaturas de un curso (por ejemplo Matemáticas, Física, Química, Historia y Lengua) en una lista, pregunte al usuario la nota que ha sacado en cada asignatura, y después las muestre por pantalla con el mensaje En `<asignatura>` has sacado `<nota>` donde `<asignatura>` es cada una des las asignaturas de la lista y `<nota>` cada una de las correspondientes notas introducidas por el usuario."
      ],
      "metadata": {
        "id": "TRAo4L_6bDT0"
      }
    },
    {
      "cell_type": "code",
      "source": [
        "subjects = [\"Matemáticas\", \"Física\", \"Química\", \"Historia\", \"Lengua\"]\n",
        "notes = {}\n",
        "\n",
        "for subject in subjects:\n",
        "  message = f\"Ingrese la nota para la asinatura {subject}: \"\n",
        "  subject = \"_\".join(subject.split(\" \"))\n",
        "  notes[subject] = float(input(message))\n",
        "\n",
        "print(\"-\"*50)\n",
        "for subject in notes:\n",
        "  note = round(notes[subject], 2)\n",
        "  subject = \" \".join(subject.split(\"_\"))\n",
        "  print(f\"En {subject} has sacado {note}\")"
      ],
      "metadata": {
        "colab": {
          "base_uri": "https://localhost:8080/"
        },
        "id": "zdsnzf1KbDPl",
        "outputId": "0228df02-b0c9-4021-ccff-fce90b0ed505"
      },
      "execution_count": null,
      "outputs": [
        {
          "output_type": "stream",
          "name": "stdout",
          "text": [
            "Ingrese la nota para la asinatura Bases de datos: 1\n",
            "--------------------------------------------------\n",
            "En Bases de datos has sacado 1.0\n"
          ]
        }
      ]
    },
    {
      "cell_type": "code",
      "source": [
        "## Solucion aprende con Alf ##\n",
        "subjects = [\"Matemáticas\", \"Física\", \"Química\", \"Historia\", \"Lengua\"]\n",
        "scores = []\n",
        "for subject in subjects:\n",
        "    score = input(\"¿Qué nota has sacado en \" + subject + \"?\")\n",
        "    scores.append(score)\n",
        "for i in range(len(subjects)):\n",
        "    print(\"En \" + subjects[i] + \" has sacado \" + scores[i])"
      ],
      "metadata": {
        "id": "y8iDJyvGtkPk"
      },
      "execution_count": null,
      "outputs": []
    },
    {
      "cell_type": "markdown",
      "source": [
        "# **Ejercicio 4**\n",
        "Escribir un programa que pregunte al usuario los números ganadores de la lotería primitiva, los almacene en una lista y los muestre por pantalla ordenados de menor a mayor."
      ],
      "metadata": {
        "id": "ZoeAGSs5tmME"
      }
    },
    {
      "cell_type": "code",
      "source": [
        "CANTIDAD_NUMEROS = 6\n",
        "numeros = []\n",
        "\n",
        "for i in range(CANTIDAD_NUMEROS):\n",
        "  numeros.append(int(input(f\"Ingrese un numero ganador: \")))\n",
        "\n",
        "numeros.sort()\n",
        "print(f\"Los números ganadores son {numeros}\")"
      ],
      "metadata": {
        "colab": {
          "base_uri": "https://localhost:8080/"
        },
        "id": "TSfOtpLFtltu",
        "outputId": "ee8e3625-232e-4523-fce8-0649bd151a13"
      },
      "execution_count": null,
      "outputs": [
        {
          "output_type": "stream",
          "name": "stdout",
          "text": [
            "Ingrese un numero ganador: 46\n",
            "Ingrese un numero ganador: 25\n",
            "Ingrese un numero ganador: 32\n",
            "Ingrese un numero ganador: 15\n",
            "Ingrese un numero ganador: 9\n",
            "Ingrese un numero ganador: 21\n",
            "Los números ganadores son [9, 15, 21, 25, 32, 46]\n"
          ]
        }
      ]
    },
    {
      "cell_type": "markdown",
      "source": [
        "# **Ejercicio 5**\n",
        "Escribir un programa que almacene en una lista los números del 1 al 10 y los muestre por pantalla en orden inverso separados por comas."
      ],
      "metadata": {
        "id": "IvF-PpAKvMpe"
      }
    },
    {
      "cell_type": "code",
      "source": [
        "numeros = []\n",
        "\n",
        "for i in range(10):\n",
        "  numeros.append(i+1)\n",
        "\n",
        "numeros.sort(reverse=True)\n",
        "print(str(numeros).replace(\"[\", \"\").replace(\"]\", \"\"))"
      ],
      "metadata": {
        "colab": {
          "base_uri": "https://localhost:8080/"
        },
        "id": "AaLp8aPWvMQ6",
        "outputId": "6e36bc9e-a51c-430e-ea90-a9ebe81b9442"
      },
      "execution_count": null,
      "outputs": [
        {
          "output_type": "stream",
          "name": "stdout",
          "text": [
            "10, 9, 8, 7, 6, 5, 4, 3, 2, 1\n"
          ]
        }
      ]
    },
    {
      "cell_type": "markdown",
      "source": [
        "# **Ejercicio 6**\n",
        "Escribir un programa que almacene las asignaturas de un curso (por ejemplo Matemáticas, Física, Química, Historia y Lengua) en una lista, pregunte al usuario la nota que ha sacado en cada asignatura y elimine de la lista las asignaturas aprobadas. Al final el programa debe mostrar por pantalla las asignaturas que el usuario tiene que repetir."
      ],
      "metadata": {
        "id": "x940kbuPwiDl"
      }
    },
    {
      "cell_type": "code",
      "source": [
        "subjects = [\"Matemáticas\", \"Física\", \"Química\", \"Historia\", \"Lengua\"]\n",
        "passed = []\n",
        "\n",
        "for subject in subjects:\n",
        "  note = float(input(f\"Ingrese la nota para la asignatura {subject}: \"))\n",
        "  if note >= 3:\n",
        "    passed.append(subject)\n",
        "\n",
        "for subject in passed:\n",
        "  subjects.remove(subject)\n",
        "\n",
        "print(f\"Tienes que repetir: {', '.join(subjects)}\")"
      ],
      "metadata": {
        "id": "duJaS4w2wh5_",
        "colab": {
          "base_uri": "https://localhost:8080/"
        },
        "outputId": "fabb46e9-0439-4add-c955-46bf22793392"
      },
      "execution_count": null,
      "outputs": [
        {
          "output_type": "stream",
          "name": "stdout",
          "text": [
            "Ingrese la nota para la asignatura Matemáticas: 1\n",
            "Ingrese la nota para la asignatura Física: 2\n",
            "Ingrese la nota para la asignatura Química: 3\n",
            "Ingrese la nota para la asignatura Historia: 4\n",
            "Ingrese la nota para la asignatura Lengua: 5\n",
            "Tienes que repetir: Matemáticas, Física\n"
          ]
        }
      ]
    },
    {
      "cell_type": "markdown",
      "source": [
        "# **Ejercicio 7**\n",
        "Escribir un programa que almacene el abecedario en una lista, elimine de la lista las letras que ocupen posiciones múltiplos de 3, y muestre por pantalla la lista resultante."
      ],
      "metadata": {
        "id": "_a5YsVx6LMIW"
      }
    },
    {
      "cell_type": "code",
      "source": [
        "alphabet = []\n",
        "\n",
        "for i in range(97,123):\n",
        "  alphabet.append(chr(i))\n",
        "\n",
        "for i in range(len(alphabet), 1, -1):\n",
        "  if(i % 3 == 0 and i):\n",
        "    alphabet.pop(i-1)\n",
        "\n",
        "print(alphabet)"
      ],
      "metadata": {
        "colab": {
          "base_uri": "https://localhost:8080/"
        },
        "id": "yRvrfHMMLNOT",
        "outputId": "5bbc5696-54a8-46b4-990a-075777c62ac8"
      },
      "execution_count": null,
      "outputs": [
        {
          "output_type": "stream",
          "name": "stdout",
          "text": [
            "['a', 'b', 'd', 'e', 'g', 'h', 'j', 'k', 'm', 'n', 'p', 'q', 's', 't', 'v', 'w', 'y', 'z']\n"
          ]
        }
      ]
    },
    {
      "cell_type": "markdown",
      "source": [
        "# **Ejercicio 8**\n",
        "Escribir un programa que pida al usuario una palabra y muestre por pantalla si es un palíndromo.\n"
      ],
      "metadata": {
        "id": "PU9c9ZCkN7Yf"
      }
    },
    {
      "cell_type": "code",
      "source": [
        "word = input(\"Ingrese una palabra: \")\n",
        "\n",
        "reverse_word = word[::-1]\n",
        "\n",
        "if word == reverse_word:\n",
        "  print(\"Es palindromo\")\n",
        "else:\n",
        "  print(\"No es palindromo\")\n"
      ],
      "metadata": {
        "colab": {
          "base_uri": "https://localhost:8080/"
        },
        "id": "XmgcjVJXN7ty",
        "outputId": "6f48d626-f38e-47bb-89f5-4fd7b3a5ae8f"
      },
      "execution_count": null,
      "outputs": [
        {
          "output_type": "stream",
          "name": "stdout",
          "text": [
            "Ingrese una palabra: hola\n",
            "No es palindromo\n"
          ]
        }
      ]
    },
    {
      "cell_type": "code",
      "source": [
        "## solucion aprende con Alf ##\n",
        "word = input(\"Introduce una palabra: \")\n",
        "reversed_word = word\n",
        "word = list(word)\n",
        "reversed_word = list(reversed_word)\n",
        "reversed_word.reverse()\n",
        "if word == reversed_word:\n",
        "    print(\"Es un palíndromo\")\n",
        "else:\n",
        "    print(\"No es un palíndromo\")"
      ],
      "metadata": {
        "id": "WdN_Wr_1Pnls"
      },
      "execution_count": null,
      "outputs": []
    },
    {
      "cell_type": "markdown",
      "source": [
        "# **Ejercicio 9**\n",
        "Escribir un programa que pida al usuario una palabra y muestre por pantalla el número de veces que contiene cada vocal."
      ],
      "metadata": {
        "id": "GbwezSlFPq6V"
      }
    },
    {
      "cell_type": "code",
      "source": [
        "VOWELS = ('a', 'e', 'i', 'o', 'u')\n",
        "\n",
        "word = input(\"Ingrese una palabra: \")\n",
        "counter = {}\n",
        "\n",
        "for vowel in VOWELS:\n",
        "  counter[vowel] = word.count(vowel)\n",
        "\n",
        "print(counter)"
      ],
      "metadata": {
        "colab": {
          "base_uri": "https://localhost:8080/"
        },
        "id": "Ze6XzDb5PsUd",
        "outputId": "5abe5b99-a79b-4f00-e759-0cffa0432cd2"
      },
      "execution_count": null,
      "outputs": [
        {
          "output_type": "stream",
          "name": "stdout",
          "text": [
            "Ingrese una palabra: hola\n",
            "{'a': 1, 'e': 0, 'i': 0, 'o': 1, 'u': 0}\n"
          ]
        }
      ]
    },
    {
      "cell_type": "markdown",
      "source": [
        "# **Ejercicio 10**\n",
        "Escribir un programa que almacene en una lista los siguientes precios, 50, 75, 46, 22, 80, 65, 8, y muestre por pantalla el menor y el mayor de los precios."
      ],
      "metadata": {
        "id": "oTLKpeXyS3VG"
      }
    },
    {
      "cell_type": "code",
      "source": [
        "PRECIOS = [50, 75, 46, 22, 80, 65, 8]\n",
        "PRECIOS.sort()\n",
        "\n",
        "print(f\"El precio menor es: {PRECIOS[0]}\")\n",
        "print(f\"El precio mayor es: {PRECIOS[len(PRECIOS)-1]}\")"
      ],
      "metadata": {
        "colab": {
          "base_uri": "https://localhost:8080/"
        },
        "id": "RIWJyh7cS3mW",
        "outputId": "5983b956-0646-4ff3-fcd9-5c41b6b878c9"
      },
      "execution_count": null,
      "outputs": [
        {
          "output_type": "stream",
          "name": "stdout",
          "text": [
            "El precio menor es: 8\n",
            "El precio mayor es: 80\n"
          ]
        }
      ]
    },
    {
      "cell_type": "markdown",
      "source": [
        "# **Ejercio 11**\n",
        "Escribir un programa que almacene los vectores (1,2,3) y (-1,0,2) en dos listas y muestre por pantalla su producto escalar."
      ],
      "metadata": {
        "id": "iik2nIylTsDl"
      }
    },
    {
      "cell_type": "code",
      "source": [
        "A = [1, 2, 3]\n",
        "B = [-1, 0, 2]\n",
        "\n",
        "producto_escalar = 0\n",
        "\n",
        "for i in range(len(A)):\n",
        "  producto_escalar += A[i]*B[i]\n",
        "\n",
        "print(f\"El producto escalar entre {A} y {B} es {producto_escalar}\")"
      ],
      "metadata": {
        "colab": {
          "base_uri": "https://localhost:8080/"
        },
        "id": "BgmoFB-sTSuu",
        "outputId": "464c28e5-80b8-4d42-969b-be9664d15c96"
      },
      "execution_count": null,
      "outputs": [
        {
          "output_type": "stream",
          "name": "stdout",
          "text": [
            "El producto escalar entre [1, 2, 3] y [-1, 0, 2] es 5\n"
          ]
        }
      ]
    },
    {
      "cell_type": "markdown",
      "source": [
        "# **Ejercicio 12**\n",
        "## Ejercicio\n",
        "\n",
        "Escribir un programa que almacene las matrices\n",
        "\n",
        "$$\n",
        "A = \\left(\n",
        "  \\begin{array}{rrr}\n",
        "  1 & 2 & 3\\\\\n",
        "  4 & 5 & 6\n",
        "  \\end{array}\n",
        "  \\right)\n",
        "  \\quad  y\n",
        "  \\quad\n",
        "  B = \\left(\n",
        "  \\begin{array}{rr}\n",
        "  -1 & 0\\\\\n",
        "  0 & 1\\\\\n",
        "  1 & 1\n",
        "  \\end{array}\n",
        "  \\right)\n",
        "$$\n",
        "\n",
        "en una tupla y muestre por pantalla su producto.  \n",
        "Nota: Para representar matrices mediante tuplas usar tuplas anidadas, representando cada vector fila en una tupla."
      ],
      "metadata": {
        "id": "BNtFatmhVJO0"
      }
    },
    {
      "cell_type": "code",
      "source": [
        "A = ((1,2,3),(4,5,6))\n",
        "B = ((-1,0),(0,1),(1,1))\n",
        "product = []\n",
        "\n",
        "for i in range(len(A)):\n",
        "  row = []\n",
        "  for j in range(len(B[0])):\n",
        "    result = 0\n",
        "    for k in range(len(B)):\n",
        "      result += (A[i][k]*B[k][j])\n",
        "    row.append(result)\n",
        "  product.append(tuple(row))\n",
        "\n",
        "print(tuple(product))\n"
      ],
      "metadata": {
        "colab": {
          "base_uri": "https://localhost:8080/"
        },
        "id": "Vo87yqTuVJLF",
        "outputId": "cf2953b6-120e-4633-90cd-df62c8b2c5e0"
      },
      "execution_count": null,
      "outputs": [
        {
          "output_type": "stream",
          "name": "stdout",
          "text": [
            "((2, 5), (2, 11))\n"
          ]
        }
      ]
    },
    {
      "cell_type": "code",
      "source": [
        "## solucion aprende con Alf ##\n",
        "a = ((1, 2, 3),\n",
        "     (4, 5, 6))\n",
        "b = ((-1, 0),\n",
        "     (0, 1),\n",
        "     (1,1))\n",
        "result = [[0,0],\n",
        "          [0,0]]\n",
        "for i in range(len(a)):\n",
        "    for j in range(len(b[0])):\n",
        "        for k in range(len(b)):\n",
        "            result[i][j] += a[i][k] * b[k][j]\n",
        "for i in range(len(result)):\n",
        "    result[i] = tuple(result[i])\n",
        "result = tuple(result)\n",
        "for i in range(len(result)):\n",
        "    print(result[i])"
      ],
      "metadata": {
        "id": "DlakTC2sV4xG"
      },
      "execution_count": null,
      "outputs": []
    },
    {
      "cell_type": "markdown",
      "source": [
        "# **Ejercicio 13**\n",
        "Escribir un programa que pregunte por una muestra de números, separados por comas, los guarde en una lista y muestre por pantalla su media y desviación típica."
      ],
      "metadata": {
        "id": "-Qf0YngRaBJE"
      }
    },
    {
      "cell_type": "code",
      "source": [
        "muestra = input(\"Ingrese la muestra de numeros(Separados por comas): \").split(\",\")\n",
        "n = len(muestra)\n",
        "sumatoria = 0\n",
        "sumsq = 0\n",
        "\n",
        "for i in muestra:\n",
        "  i = int(i)\n",
        "  sumatoria += i\n",
        "  sumsq += i**2\n",
        "\n",
        "media = sumatoria / n\n",
        "  \n",
        "desviacion_tipica = (sumsq/n-media**2)**(1/2)\n",
        "\n",
        "print(f\"La media es: {media}\")\n",
        "print(f\"La desviacion tipica es: {desviacion_tipica}\")\n",
        "\n"
      ],
      "metadata": {
        "colab": {
          "base_uri": "https://localhost:8080/"
        },
        "id": "Zhp6P-FPaA-S",
        "outputId": "b0552d3b-d283-49e4-dd12-4e9b2002f140"
      },
      "execution_count": null,
      "outputs": [
        {
          "output_type": "stream",
          "name": "stdout",
          "text": [
            "Ingrese la muestra de numeros(Separados por comas): 1,2,3,4,5\n",
            "La media es: 3.0\n",
            "La desviacion tipica es: 1.4142135623730951\n"
          ]
        }
      ]
    }
  ]
}