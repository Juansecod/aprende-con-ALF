{
  "nbformat": 4,
  "nbformat_minor": 0,
  "metadata": {
    "colab": {
      "provenance": [],
      "collapsed_sections": [
        "KlNQhUKOevUw",
        "k0R3ac4hrD8K",
        "Ks6CYiajwz1O",
        "1Q9jUr4vAhRg"
      ],
      "authorship_tag": "ABX9TyPwjw8rGNrASbvUGanWKqRw",
      "include_colab_link": true
    },
    "kernelspec": {
      "name": "python3",
      "display_name": "Python 3"
    },
    "language_info": {
      "name": "python"
    }
  },
  "cells": [
    {
      "cell_type": "markdown",
      "metadata": {
        "id": "view-in-github",
        "colab_type": "text"
      },
      "source": [
        "<a href=\"https://colab.research.google.com/github/Juansecod/aprende-con-ALF/blob/main/diccionarios/diccionarios.ipynb\" target=\"_parent\"><img src=\"https://colab.research.google.com/assets/colab-badge.svg\" alt=\"Open In Colab\"/></a>"
      ]
    },
    {
      "cell_type": "markdown",
      "source": [
        "# **Ejercicio 1**\n",
        "Escribir un programa que guarde en una variable el diccionario {'Euro':'€', 'Dollar':'$', 'Yen':'¥'}, pregunte al usuario por una divisa y muestre su símbolo o un mensaje de aviso si la divisa no está en el diccionario."
      ],
      "metadata": {
        "id": "KlNQhUKOevUw"
      }
    },
    {
      "cell_type": "code",
      "execution_count": 7,
      "metadata": {
        "colab": {
          "base_uri": "https://localhost:8080/"
        },
        "id": "KTTGgt_keqJs",
        "outputId": "48e97a05-415c-4a3f-e1e0-574e89d8b605"
      },
      "outputs": [
        {
          "output_type": "stream",
          "name": "stdout",
          "text": [
            "Ingrese una divisa: COP\n",
            "Divisa no disponible\n"
          ]
        }
      ],
      "source": [
        "DIVISAS = {'Euro':'€', 'Dollar':'$', 'Yen':'¥'}\n",
        "\n",
        "divisa_usuario = input(\"Ingrese una divisa: \").title()\n",
        "\n",
        "if divisa_usuario in DIVISAS:\n",
        "  print(DIVISAS[divisa_usuario])\n",
        "else:\n",
        "  print(\"Divisa no disponible\")"
      ]
    },
    {
      "cell_type": "code",
      "source": [
        "monedas = {'Euro':'€', 'Dollar':'$', 'Yen':'¥'}\n",
        "moneda = input(\"Introduce una divisa: \")\n",
        "print(monedas.get(moneda.title(), \"La divisa no está.\"))"
      ],
      "metadata": {
        "colab": {
          "base_uri": "https://localhost:8080/"
        },
        "id": "MbVak01Pg-kk",
        "outputId": "d469e534-0471-49fd-a707-097eb68dc83a"
      },
      "execution_count": null,
      "outputs": [
        {
          "output_type": "stream",
          "name": "stdout",
          "text": [
            "Introduce una divisa: cop\n",
            "La divisa no está.\n"
          ]
        }
      ]
    },
    {
      "cell_type": "markdown",
      "source": [
        "# **Ejercicio 2**\n",
        "Escribir un programa que pregunte al usuario su nombre, edad, dirección y teléfono y lo guarde en un diccionario. Después debe mostrar por pantalla el mensaje `<nombre> tiene <edad> años, vive en <dirección> y su número de teléfono es <teléfono>`."
      ],
      "metadata": {
        "id": "gD4RyQ4mhK8U"
      }
    },
    {
      "cell_type": "code",
      "source": [
        "nombre = input(\"Ingrese su nombre: \")\n",
        "edad = int(input(\"Ingrese su edad: \"))\n",
        "direccion = input(\"Ingrese su direccion: \")\n",
        "telefono = input(\"Ingrese su telefono: \")\n",
        "\n",
        "usuario = {'nombre': nombre, 'edad': edad, 'direccion': direccion, 'telefono': telefono}\n",
        "\n",
        "print(f\"{usuario['nombre'].title()} tiene {usuario['edad']} años, vive en {usuario['direccion']} y su número de teléfono es {usuario['telefono']}\")"
      ],
      "metadata": {
        "colab": {
          "base_uri": "https://localhost:8080/"
        },
        "id": "2Dqu0jc4hLQp",
        "outputId": "2f0c40bb-58ea-43a3-d5f3-481d5109d5b6"
      },
      "execution_count": null,
      "outputs": [
        {
          "output_type": "stream",
          "name": "stdout",
          "text": [
            "Ingrese su nombre: Juan\n",
            "Ingrese su edad: 1\n",
            "Ingrese su direccion: 1\n",
            "Ingrese su telefono: 1\n",
            "Juan tiene 1 años, vive en 1 y su número de teléfono es 1\n"
          ]
        }
      ]
    },
    {
      "cell_type": "markdown",
      "source": [
        "# **Ejercicio 3**\n",
        "Escribir un programa que guarde en un diccionario los precios de las frutas de la tabla, pregunte al usuario por una fruta, un número de kilos y muestre por pantalla el precio de ese número de kilos de fruta. Si la fruta no está en el diccionario debe mostrar un mensaje informando de ello.\n",
        "\n",
        "| Fruta | Precio|\n",
        "|:-|:-:|\n",
        "|Plátano | 1.35 |\n",
        "|Manzana | 0.80|\n",
        "|Pera| 0.85|\n",
        "|Naranja | 0.70|\n"
      ],
      "metadata": {
        "id": "AGwlfgLJimEf"
      }
    },
    {
      "cell_type": "code",
      "source": [
        "PRECIOS = {\"platano\": 1.35, \"manzana\": 0.80, \"pera\": 0.85, \"naranja\": 0.70}\n",
        "menu = \"\"\n",
        "\n",
        "for fruta in PRECIOS:\n",
        "  menu = menu + f\" *{fruta.title()}\\n\"\n",
        "\n",
        "fruta = input(f\"Ingrese una de las siguientes frutas: \\n{menu}\").lower()\n",
        "\n",
        "if fruta in PRECIOS:\n",
        "  kilos = float(input(\"Ingrese la cantidad de kilos: \"))\n",
        "  print(f\"{'-'*50}\\nTotal a pagar: {kilos*PRECIOS[fruta]}\")\n",
        "else:\n",
        "  print(f\"{'-'*50}\\nERROR: {fruta.title()} no esta registrado en el sistema\")"
      ],
      "metadata": {
        "id": "LJxdlj7gil6k",
        "colab": {
          "base_uri": "https://localhost:8080/"
        },
        "outputId": "55e410eb-96d8-4c00-9890-12759ae3d4d4"
      },
      "execution_count": null,
      "outputs": [
        {
          "output_type": "stream",
          "name": "stdout",
          "text": [
            "Ingrese una de las siguientes frutas: \n",
            " *Platano\n",
            " *Manzana\n",
            " *Pera\n",
            " *Naranja\n",
            "manzana\n",
            "Ingrese la cantidad de kilos: 10\n",
            "--------------------------------------------------\n",
            "Total a pagar: 8.0\n"
          ]
        }
      ]
    },
    {
      "cell_type": "markdown",
      "source": [
        "# **Ejercicio 4**\n",
        "Escribir un programa que pregunte una fecha en formato `dd/mm/aaaa` y muestre por pantalla la misma fecha en formato `dd de <mes> de aaaa` donde `<mes>` es el nombre del mes."
      ],
      "metadata": {
        "id": "l4Kb9NhEce1v"
      }
    },
    {
      "cell_type": "code",
      "source": [
        "MONTHS = {1: \"Enero\",\n",
        "         2: \"Febrero\",\n",
        "         3: \"Marzo\",\n",
        "         4: \"Abril\",\n",
        "         5: \"Mayo\",\n",
        "         6: \"Junio\",\n",
        "         7: \"Julio\",\n",
        "         8: \"Agosto\",\n",
        "         9: \"Septiembre\",\n",
        "         10: \"Octubre\",\n",
        "         11: \"Noviembre\",\n",
        "         12: \"Diciembre\"}\n",
        "\n",
        "day, month, year = input(\"Ingrese la fecha con el formato dd/mm/aaaa: \").split(\"/\")\n",
        "month = int(month)\n",
        "\n",
        "print(f\"{day} de {MONTHS[month]} de {year}\")"
      ],
      "metadata": {
        "colab": {
          "base_uri": "https://localhost:8080/"
        },
        "id": "DNZi0laGceYW",
        "outputId": "24069556-f437-4fb6-e438-8f1c0d112bb3"
      },
      "execution_count": null,
      "outputs": [
        {
          "output_type": "stream",
          "name": "stdout",
          "text": [
            "Ingrese la fecha con el formato dd/mm/aaaa: 11/11/2022\n",
            "11 de Noviembre de 2022\n"
          ]
        }
      ]
    },
    {
      "cell_type": "markdown",
      "source": [
        "# **Ejercicio 5**\n",
        "Escribir un programa que almacene el diccionario con los créditos de las asignaturas de un curso `{'Matemáticas': 6, 'Física': 4, 'Química': 5}` y después muestre por pantalla los créditos de cada asignatura en el formato `<asignatura> tiene <créditos> créditos`, donde `<asignatura>` es cada una de las asignaturas del curso, y `<créditos>` son sus créditos. Al final debe mostrar también el número total de créditos del curso."
      ],
      "metadata": {
        "id": "9B7ORtoBkUTZ"
      }
    },
    {
      "cell_type": "code",
      "source": [
        "CREDITOS = {'Matemáticas': 6, 'Física': 4, 'Química': 5}\n",
        "suma = 0\n",
        "\n",
        "for curso in CREDITOS:\n",
        "  print(f\"{curso} tiene {CREDITOS[curso]} creditos\")\n",
        "  suma += CREDITOS[curso]\n",
        "\n",
        "print(f\"En total todos los cursos suman: {suma}\")"
      ],
      "metadata": {
        "colab": {
          "base_uri": "https://localhost:8080/"
        },
        "id": "WLMbROkHdD6_",
        "outputId": "c1f85059-05e8-4d6e-a164-07348f55c3c8"
      },
      "execution_count": null,
      "outputs": [
        {
          "output_type": "stream",
          "name": "stdout",
          "text": [
            "Matemáticas tiene 6 creditos\n",
            "Física tiene 4 creditos\n",
            "Química tiene 5 creditos\n",
            "En total todos los cursos suman: 15\n"
          ]
        }
      ]
    },
    {
      "cell_type": "code",
      "source": [
        "## Solucion Aprende con Alf ##\n",
        "curso = {'Matemáticas': 6, 'Física': 4, 'Química': 5}\n",
        "total_creditos = 0\n",
        "for asignatura, creditos in curso.items():\n",
        "    print(asignatura, 'tiene', creditos, 'créditos')\n",
        "    total_creditos += creditos\n",
        "print('Número total de créditos del curso: ', total_creditos)"
      ],
      "metadata": {
        "colab": {
          "base_uri": "https://localhost:8080/"
        },
        "id": "ptdgAeL4lPoy",
        "outputId": "b08e6474-54c7-43b4-8917-7182cee90990"
      },
      "execution_count": null,
      "outputs": [
        {
          "output_type": "stream",
          "name": "stdout",
          "text": [
            "Matemáticas tiene 6 créditos\n",
            "Física tiene 4 créditos\n",
            "Química tiene 5 créditos\n",
            "Número total de créditos del curso:  15\n"
          ]
        }
      ]
    },
    {
      "cell_type": "markdown",
      "source": [
        "# **Ejercicio 6**\n",
        "Escribir un programa que cree un diccionario vacío y lo vaya llenado con información sobre una persona (por ejemplo nombre, edad, sexo, teléfono, correo electrónico, etc.) que se le pida al usuario. Cada vez que se añada un nuevo dato debe imprimirse el contenido del diccionario."
      ],
      "metadata": {
        "id": "tdcaUAKpldUP"
      }
    },
    {
      "cell_type": "code",
      "source": [
        "persona = {}\n",
        "continuar = True\n",
        "\n",
        "while continuar:\n",
        "  dato = input(\"Ingrese el tipo de informacion que desea ingresar: \").strip().lower()\n",
        "  persona[dato] = input(f\"{dato.title()}: \").strip().capitalize()\n",
        "  print(\"\")\n",
        "  print(f\"\\t{persona}\")\n",
        "  print(\"-\"*100)\n",
        "  continuar = input(\"Desea continuar? y/n: \").lower() == 'y'\n",
        "  print(\"-\"*100)\n"
      ],
      "metadata": {
        "colab": {
          "base_uri": "https://localhost:8080/"
        },
        "id": "iyAGnA4PleYZ",
        "outputId": "72386053-51d3-4c5d-a433-53151153d069"
      },
      "execution_count": null,
      "outputs": [
        {
          "output_type": "stream",
          "name": "stdout",
          "text": [
            "Ingrese el tipo de informacion que desea ingresar: nombre\n",
            "Nombre: Juan\n",
            "\n",
            "\t{'nombre': 'Juan'}\n",
            "----------------------------------------------------------------------------------------------------\n",
            "Desea continuar? y/n: y\n",
            "----------------------------------------------------------------------------------------------------\n",
            "Ingrese el tipo de informacion que desea ingresar: edad\n",
            "Edad: 20\n",
            "\n",
            "\t{'nombre': 'Juan', 'edad': '20'}\n",
            "----------------------------------------------------------------------------------------------------\n",
            "Desea continuar? y/n: n\n",
            "----------------------------------------------------------------------------------------------------\n"
          ]
        }
      ]
    },
    {
      "cell_type": "markdown",
      "source": [
        "# **Ejercicio 7**\n",
        "Escribir un programa que cree un diccionario simulando una cesta de la compra. El programa debe preguntar el artículo y su precio y añadir el par al diccionario, hasta que el usuario decida terminar. Después se debe mostrar por pantalla la lista de la compra y el coste total, con el siguiente formato\n",
        "\n",
        "|Lista de la compra| |\n",
        "|:-|-:|\n",
        "|Artículo 1 | Precio|\n",
        "|Artículo 2 | Precio|\n",
        "|Artículo 3 | Precio|\n",
        "|...| ...|\n",
        "|Total| Coste|\n"
      ],
      "metadata": {
        "id": "PPo73_ckojYa"
      }
    },
    {
      "cell_type": "code",
      "source": [
        "from google.colab import output\n",
        "from time import sleep \n",
        "\n",
        "cesta = {}\n",
        "continuar = True\n",
        "suma = 0\n",
        "\n",
        "while continuar:\n",
        "  articulo = input(\"Ingrese el articulo que desea ingresar: \").strip().lower()\n",
        "  cesta[articulo] = int(input(f\"Precio de {articulo.title()}: \"))\n",
        "  suma += cesta[articulo]\n",
        "  print(\"-\"*100)\n",
        "  continuar = input(\"Desea continuar? y/n: \").lower() == 'y'\n",
        "  print(\"-\"*100)\n",
        "\n",
        "output.clear(wait=True)\n",
        "sleep(3)\n",
        "print(\"-\"*100)\n",
        "print(\"Lista De Compras\")\n",
        "print(\"-\"*100)\n",
        "for articulo, precio in cesta.items():\n",
        "  print(f\"{articulo.title()+':':<20}  {precio:>12}\")\n",
        "print(\"-\"*100)\n",
        "print(f\"{'TOTAL:':<20}  {suma:>12}\")\n",
        "print(\"-\"*100)"
      ],
      "metadata": {
        "colab": {
          "base_uri": "https://localhost:8080/"
        },
        "id": "9m91LfrBojOq",
        "outputId": "19836f18-6bbc-46c5-f595-3695456a7bf9"
      },
      "execution_count": null,
      "outputs": [
        {
          "output_type": "stream",
          "name": "stdout",
          "text": [
            "----------------------------------------------------------------------------------------------------\n",
            "Lista De Compras\n",
            "----------------------------------------------------------------------------------------------------\n",
            "Funko:                          10\n",
            "Manga Berserk:                  10\n",
            "----------------------------------------------------------------------------------------------------\n",
            "TOTAL:                          20\n",
            "----------------------------------------------------------------------------------------------------\n"
          ]
        }
      ]
    },
    {
      "cell_type": "markdown",
      "source": [
        "# **Ejercicio 8**\n",
        "Escribir un programa que cree un diccionario de traducción español-inglés. El usuario introducirá las palabras en español e inglés separadas por dos puntos, y cada par `<palabra>:<traducción>` separados por comas. El programa debe crear un diccionario con las palabras y sus traducciones. Después pedirá una frase en español y utilizará el diccionario para traducirla palabra a palabra. Si una palabra no está en el diccionario debe dejarla sin traducir."
      ],
      "metadata": {
        "id": "k0R3ac4hrD8K"
      }
    },
    {
      "cell_type": "code",
      "source": [
        "diccionario ={}\n",
        "# casa:house,grande:big,perro:dog\n",
        "pares = input(\"Ingrese palabras en español e inglés separadas por dos puntos de forma <palabra>:<traducción>, y que esten separadas por comas: \\n\").split(',')\n",
        "\n",
        "for par in pares:\n",
        "  palabra, traduccion = par.split(\":\")\n",
        "  diccionario[palabra.strip().lower()] = traduccion.lower()\n",
        "\n",
        "frase = input(\"Ingrese una frase en español: \").split()\n",
        "\n",
        "for palabra in frase:\n",
        "  if palabra.lower() in diccionario:\n",
        "    print(diccionario[palabra.lower()], end = ' ')\n",
        "  else:\n",
        "    print(palabra, end = ' ')\n"
      ],
      "metadata": {
        "colab": {
          "base_uri": "https://localhost:8080/"
        },
        "id": "ZRKOHPXmq75H",
        "outputId": "19659886-d585-479e-8984-16927611c19c"
      },
      "execution_count": null,
      "outputs": [
        {
          "output_type": "stream",
          "name": "stdout",
          "text": [
            "Ingrese palabras en español e inglés separadas por dos puntos de forma <palabra>:<traducción>, y que esten separadas por comas: \n",
            " casa:house,grande:big,perro:dog\n",
            "Ingrese una frase en español: Casa con perro grande\n",
            "house con dog big "
          ]
        }
      ]
    },
    {
      "cell_type": "markdown",
      "source": [
        "# **Ejercicio 9**\n",
        "Escribir un programa que gestione las facturas pendientes de cobro de una empresa. Las facturas se almacenarán en un diccionario donde la clave de cada factura será el número de factura y el valor el coste de la factura. El programa debe preguntar al usuario si quiere añadir una nueva factura, pagar una existente o terminar. Si desea añadir una nueva factura se preguntará por el número de factura y su coste y se añadirá al diccionario. Si se desea pagar una factura se preguntará por el número de factura y se eliminará del diccionario. Después de cada operación el programa debe mostrar por pantalla la cantidad cobrada hasta el momento y la cantidad pendiente de cobro."
      ],
      "metadata": {
        "id": "Ks6CYiajwz1O"
      }
    },
    {
      "cell_type": "code",
      "source": [
        "from google.colab import output\n",
        "\n",
        "facturas = {}\n",
        "saldo_cobrado = 0\n",
        "saldo_pendiente = 0\n",
        "more = ''\n",
        "\n",
        "while more != 'T':\n",
        "    output.clear()\n",
        "    print(\"-\"*100)\n",
        "    if more == 'A':\n",
        "        factura = int(input(\"Ingrese el numero de factura que desea ingresar: \").strip())\n",
        "        facturas[factura] = int(input(f\"Precio de {factura}: \"))\n",
        "        saldo_pendiente +=  facturas[factura]\n",
        "    if more == 'P':\n",
        "        factura = int(input(\"Ingrese el numero de factura que desea pagar: \").strip())\n",
        "        cobro = facturas.pop(factura, 0)\n",
        "        saldo_cobrado += cobro\n",
        "        saldo_pendiente -= cobro\n",
        "    print(\"-\"*100)\n",
        "    print(f\"{'Recaudado:':<20} {saldo_cobrado:>20}\")\n",
        "    print(f\"{'Pendiente de Cobro:':<20} {saldo_pendiente:>20}\")\n",
        "    print(\"-\"*100)\n",
        "    more = input('¿Quieres añadir una nueva factura (A), pagarla (P) o terminar (T)? ').upper()"
      ],
      "metadata": {
        "colab": {
          "base_uri": "https://localhost:8080/"
        },
        "id": "TdLQMx0k7ktk",
        "outputId": "728522d2-2392-4a6e-b508-31aa5fa8954d"
      },
      "execution_count": 14,
      "outputs": [
        {
          "name": "stdout",
          "output_type": "stream",
          "text": [
            "----------------------------------------------------------------------------------------------------\n",
            "Ingrese el numero de factura que desea pagar: 20\n",
            "----------------------------------------------------------------------------------------------------\n",
            "Recaudado:                             10\n",
            "Pendiente de Cobro:                    20\n",
            "----------------------------------------------------------------------------------------------------\n",
            "¿Quieres añadir una nueva factura (A), pagarla (P) o terminar (T)? t\n"
          ]
        }
      ]
    },
    {
      "cell_type": "markdown",
      "source": [
        "# **Ejercicio 10**\n",
        "Escribir un programa que permita gestionar la base de datos de clientes de una empresa. Los clientes se guardarán en un diccionario en el que la clave de cada cliente será su NIF, y el valor será otro diccionario con los datos del cliente (nombre, dirección, teléfono, correo, preferente), donde preferente tendrá el valor `True` si se trata de un cliente preferente. El programa debe preguntar al usuario por una opción del siguiente menú: (1) Añadir cliente, (2) Eliminar cliente, (3) Mostrar cliente, (4) Listar todos los clientes, (5) Listar clientes preferentes, (6) Terminar. En función de la opción elegida el programa tendrá que hacer lo siguiente:\n",
        "\n",
        "1. Preguntar los datos del cliente, crear un diccionario con los datos y añadirlo a la base de datos.\n",
        "2. Preguntar por el NIF del cliente y eliminar sus datos de la base de datos.\n",
        "3. Preguntar por el NIF del cliente y mostrar sus datos.\n",
        "4. Mostrar lista de todos los clientes de la base datos con su NIF y nombre.\n",
        "5. Mostrar la lista de clientes preferentes de la base de datos con su NIF y nombre.\n",
        "6. Terminar el programa."
      ],
      "metadata": {
        "id": "1Q9jUr4vAhRg"
      }
    },
    {
      "cell_type": "code",
      "source": [
        "from google.colab import output\n",
        "\n",
        "clientes = {}\n",
        "menu = None\n",
        "\n",
        "def añadir_cliente(clientes):\n",
        "  cliente = {}\n",
        "  NIF = input(\"NIF: \").strip()\n",
        "  cliente['nombre'] = input(\"Nombre: \").strip().title() or ''\n",
        "  cliente['dirección'] = input(\"Dirección: \").strip().capitalize() or ''\n",
        "  cliente['teléfono'] = input(\"Teléfono: \").strip() or ''\n",
        "  cliente['correo'] = input(\"Correo: \").strip() or ''\n",
        "  cliente['preferente'] = input(\"Preferente: \").strip().lower() == 'true'\n",
        "  clientes[NIF] = cliente\n",
        "\n",
        "def eliminar_cliente(NIF, clientes):\n",
        "  cliente = clientes.pop(NIF, 0)\n",
        "  print(f\"El cliente {cliente['nombre']} con NIF {NIF} fue eliminado.\")\n",
        "  print(\"-\"*100)\n",
        "\n",
        "def mostrar_cliente_nif(NIF, clientes):\n",
        "  cliente = clientes[NIF]\n",
        "  nombre = cliente['nombre']\n",
        "  direccion = cliente['direccion']\n",
        "  telefono = cliente['telefono']\n",
        "  correo = cliente['correo']\n",
        "  preferente= cliente['preferente']\n",
        "  print(\"Cliente con NIF \", NIF)\n",
        "  print(\"-\"*161)\n",
        "  print(f\"| {'Nombre':<30}| {'Direccion':<50}| {'Telefono':<10}| {'Correo':<50}| {'Preferente':<10}|\")\n",
        "  print(\"-\"*161)\n",
        "  print(f\"| {nombre:<30}| {direccion:<50}| {telefono:<10}| {correo:<50}| {preferente:<10}|\")\n",
        "  print(\"-\"*161)\n",
        "\n",
        "def mostrar_clientes(clientes):\n",
        "  print(\"Clientes\")\n",
        "  print(\"-\"*46)\n",
        "  print(f\"| {'NIF':<10} | {'Nombre':<30}|\")\n",
        "  print(\"-\"*46)\n",
        "  for NIF, cliente in clientes.items():\n",
        "    print(f\"| {NIF:<10} | {cliente['nombre']:<30}|\")\n",
        "  print(\"-\"*46)\n",
        "\n",
        "def mostrar_clientes_preferentes(clientes):\n",
        "  print(\"Clientes Preferentes\")\n",
        "  print(\"-\"*46)\n",
        "  print(f\"| {'NIF':<10} | {'Nombre':<30}|\")\n",
        "  print(\"-\"*46)\n",
        "  preferentes = list(filter(lambda x :  clientes[x]['preferente'] == True, clientes))\n",
        "  for NIF in preferentes:\n",
        "    print(f\"| {NIF:<10} | {clientes[NIF]['nombre']:<30}|\")\n",
        "  print(\"-\"*46)\n",
        "\n",
        "while menu != 6:\n",
        "  output.clear()\n",
        "  if menu == 1:\n",
        "    añadir_cliente(clientes)\n",
        "  if menu == 2:\n",
        "    NIF = input(\"Ingrese el NIT del cliente que desea eliminar: \").strip()\n",
        "    eliminar_cliente(NIF, clientes)\n",
        "  if menu == 3:\n",
        "    NIF = input(\"Ingrese el NIT del cliente que desea mostrar: \").strip()\n",
        "    mostrar_cliente_nif(NIF, clientes)\n",
        "  if menu == 4:\n",
        "    mostrar_clientes(clientes)\n",
        "  if menu == 5:\n",
        "    mostrar_clientes_preferentes(clientes)\n",
        "  \n",
        "  menu = int(input(\"(1)Añadir cliente \\n(2)Eliminar cliente \\n(3)Mostrar cliente \\n(4)Listar todos los clientes \\n(5)Listar clientes preferentes \\n(6)Terminar \\n\"))\n"
      ],
      "metadata": {
        "colab": {
          "base_uri": "https://localhost:8080/"
        },
        "id": "Q4-iA3PVAhmB",
        "outputId": "907e91ad-2ab6-4b24-a8a8-8b4966861c83"
      },
      "execution_count": 65,
      "outputs": [
        {
          "name": "stdout",
          "output_type": "stream",
          "text": [
            "Clientes\n",
            "----------------------------------------------\n",
            "| NIF        | Nombre                        |\n",
            "----------------------------------------------\n",
            "| 123        | Juan                          |\n",
            "----------------------------------------------\n",
            "(1)Añadir cliente \n",
            "(2)Eliminar cliente \n",
            "(3)Mostrar cliente \n",
            "(4)Listar todos los clientes \n",
            "(5)Listar clientes preferentes \n",
            "(6)Terminar \n",
            "6\n"
          ]
        }
      ]
    },
    {
      "cell_type": "markdown",
      "source": [
        "# **Ejercicio 11**\n",
        "El directorio de los clientes de una empresa está organizado en una cadena de texto como la de más abajo, donde cada línea contiene la información del nombre, email, teléfono, nif, y el descuento que se le aplica. Las líneas se separan con el carácter de cambio de línea `\\n` y la primera línea contiene los nombres de los campos con la información contenida en el directorio.\n",
        "\n",
        "```\n",
        "\"nif;nombre;email;teléfono;descuento\\n01234567L;Luis González;luisgonzalez@mail.com;656343576;12.5\\n71476342J;Macarena Ramírez;macarena@mail.com;692839321;8\\n63823376M;Juan José Martínez;juanjo@mail.com;664888233;5.2\\n98376547F;Carmen Sánchez;carmen@mail.com;667677855;15.7\"\n",
        "```\n",
        "\n",
        "Escribir un programa que genere un diccionario con la información del directorio, donde cada elemento corresponda a un cliente y tenga por clave su nif y por valor otro diccionario con el resto de la información del cliente. Los diccionarios con la información de cada cliente tendrán como claves los nombres de los campos y como valores la información de cada cliente correspondientes a los campos. Es decir, un diccionario como el siguiente\n",
        "\n",
        "```Python\n",
        "{'01234567L': {'nombre': 'Luis González', 'email': 'luisgonzalez@mail.com', 'teléfono': '656343576', 'descuento': 12.5}, '71476342J': {'nombre': 'Macarena Ramírez', 'email': 'macarena@mail.com', 'teléfono': '692839321', 'descuento': 8.0}, '63823376M': {'nombre': 'Juan José Martínez', 'email': 'juanjo@mail.com', 'teléfono': '664888233', 'descuento': 5.2}, '98376547F': {'nombre': 'Carmen Sánchez', 'email': 'carmen@mail.com', 'teléfono': '667677855', 'descuento': 15.7}}\n",
        "```"
      ],
      "metadata": {
        "id": "n5mHszCQQ6kG"
      }
    },
    {
      "cell_type": "code",
      "source": [
        "datos_clientes = \"nif;nombre;email;teléfono;descuento\\n01234567L;Luis González;luisgonzalez@mail.com;656343576;12.5\\n71476342J;Macarena Ramírez;macarena@mail.com;692839321;8\\n63823376M;Juan José Martínez;juanjo@mail.com;664888233;5.2\\n98376547F;Carmen Sánchez;carmen@mail.com;667677855;15.7\"\n",
        "\n",
        "directorio = {}\n",
        "\n",
        "datos = datos_clientes.split('\\n')\n",
        "keys = datos[0].split(';')\n",
        "\n",
        "for i in datos[1:]:\n",
        "  lista_info = i.split(';')\n",
        "  cliente = {}\n",
        "  for j in range(1, len(keys)): \n",
        "    if keys[j] == 'descuento':\n",
        "      lista_info[j] = float(lista_info[j])\n",
        "    cliente[keys[j]] = lista_info[j]\n",
        "  directorio[lista_info[0]] = cliente\n",
        "\n",
        "print(directorio)\n",
        "\n",
        "\n"
      ],
      "metadata": {
        "colab": {
          "base_uri": "https://localhost:8080/"
        },
        "id": "y71SffZ0DSyR",
        "outputId": "3abb3f58-266c-47e0-cdd1-e5d3d57add51"
      },
      "execution_count": 82,
      "outputs": [
        {
          "output_type": "stream",
          "name": "stdout",
          "text": [
            "{'01234567L': {'nombre': 'Luis González', 'email': 'luisgonzalez@mail.com', 'teléfono': '656343576', 'descuento': 12.5}, '71476342J': {'nombre': 'Macarena Ramírez', 'email': 'macarena@mail.com', 'teléfono': '692839321', 'descuento': 8.0}, '63823376M': {'nombre': 'Juan José Martínez', 'email': 'juanjo@mail.com', 'teléfono': '664888233', 'descuento': 5.2}, '98376547F': {'nombre': 'Carmen Sánchez', 'email': 'carmen@mail.com', 'teléfono': '667677855', 'descuento': 15.7}}\n"
          ]
        }
      ]
    }
  ]
}