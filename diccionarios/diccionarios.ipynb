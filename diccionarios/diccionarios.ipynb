{
  "nbformat": 4,
  "nbformat_minor": 0,
  "metadata": {
    "colab": {
      "provenance": [],
      "authorship_tag": "ABX9TyNqAWRKGdkueOFEyoqbuxyz",
      "include_colab_link": true
    },
    "kernelspec": {
      "name": "python3",
      "display_name": "Python 3"
    },
    "language_info": {
      "name": "python"
    }
  },
  "cells": [
    {
      "cell_type": "markdown",
      "metadata": {
        "id": "view-in-github",
        "colab_type": "text"
      },
      "source": [
        "<a href=\"https://colab.research.google.com/github/Juansecod/aprende-con-ALF/blob/main/diccionarios/diccionarios.ipynb\" target=\"_parent\"><img src=\"https://colab.research.google.com/assets/colab-badge.svg\" alt=\"Open In Colab\"/></a>"
      ]
    },
    {
      "cell_type": "markdown",
      "source": [
        "# **Ejercicio 1**\n",
        "Escribir un programa que guarde en una variable el diccionario {'Euro':'€', 'Dollar':'$', 'Yen':'¥'}, pregunte al usuario por una divisa y muestre su símbolo o un mensaje de aviso si la divisa no está en el diccionario."
      ],
      "metadata": {
        "id": "KlNQhUKOevUw"
      }
    },
    {
      "cell_type": "code",
      "execution_count": null,
      "metadata": {
        "colab": {
          "base_uri": "https://localhost:8080/"
        },
        "id": "KTTGgt_keqJs",
        "outputId": "95bc6078-403a-420a-e31f-ad3760f0dbdf"
      },
      "outputs": [
        {
          "output_type": "stream",
          "name": "stdout",
          "text": [
            "Ingrese una divisa: COP\n",
            "Divisa no disponible\n"
          ]
        }
      ],
      "source": [
        "DIVISAS = {'Euro':'€', 'Dollar':'$', 'Yen':'¥'}\n",
        "\n",
        "divisa_usuario = input(\"Ingrese una divisa: \").title()\n",
        "\n",
        "if divisa_usuario in DIVISAS:\n",
        "  print(DIVISAS[divisa_usuario])\n",
        "else:\n",
        "  print(\"Divisa no disponible\")"
      ]
    },
    {
      "cell_type": "code",
      "source": [
        "monedas = {'Euro':'€', 'Dollar':'$', 'Yen':'¥'}\n",
        "moneda = input(\"Introduce una divisa: \")\n",
        "print(monedas.get(moneda.title(), \"La divisa no está.\"))"
      ],
      "metadata": {
        "colab": {
          "base_uri": "https://localhost:8080/"
        },
        "id": "MbVak01Pg-kk",
        "outputId": "d469e534-0471-49fd-a707-097eb68dc83a"
      },
      "execution_count": null,
      "outputs": [
        {
          "output_type": "stream",
          "name": "stdout",
          "text": [
            "Introduce una divisa: cop\n",
            "La divisa no está.\n"
          ]
        }
      ]
    },
    {
      "cell_type": "markdown",
      "source": [
        "# **Ejercicio 2**\n",
        "Escribir un programa que pregunte al usuario su nombre, edad, dirección y teléfono y lo guarde en un diccionario. Después debe mostrar por pantalla el mensaje `<nombre> tiene <edad> años, vive en <dirección> y su número de teléfono es <teléfono>`."
      ],
      "metadata": {
        "id": "gD4RyQ4mhK8U"
      }
    },
    {
      "cell_type": "code",
      "source": [
        "nombre = input(\"Ingrese su nombre: \")\n",
        "edad = int(input(\"Ingrese su edad: \"))\n",
        "direccion = input(\"Ingrese su direccion: \")\n",
        "telefono = input(\"Ingrese su telefono: \")\n",
        "\n",
        "usuario = {'nombre': nombre, 'edad': edad, 'direccion': direccion, 'telefono': telefono}\n",
        "\n",
        "print(f\"{usuario['nombre'].title()} tiene {usuario['edad']} años, vive en {usuario['direccion']} y su número de teléfono es {usuario['telefono']}\")"
      ],
      "metadata": {
        "colab": {
          "base_uri": "https://localhost:8080/"
        },
        "id": "2Dqu0jc4hLQp",
        "outputId": "2f0c40bb-58ea-43a3-d5f3-481d5109d5b6"
      },
      "execution_count": null,
      "outputs": [
        {
          "output_type": "stream",
          "name": "stdout",
          "text": [
            "Ingrese su nombre: Juan\n",
            "Ingrese su edad: 1\n",
            "Ingrese su direccion: 1\n",
            "Ingrese su telefono: 1\n",
            "Juan tiene 1 años, vive en 1 y su número de teléfono es 1\n"
          ]
        }
      ]
    },
    {
      "cell_type": "markdown",
      "source": [
        "# **Ejercicio 3**\n",
        "Escribir un programa que guarde en un diccionario los precios de las frutas de la tabla, pregunte al usuario por una fruta, un número de kilos y muestre por pantalla el precio de ese número de kilos de fruta. Si la fruta no está en el diccionario debe mostrar un mensaje informando de ello.\n",
        "\n",
        "| Fruta | Precio|\n",
        "|:-|:-:|\n",
        "|Plátano | 1.35 |\n",
        "|Manzana | 0.80|\n",
        "|Pera| 0.85|\n",
        "|Naranja | 0.70|\n"
      ],
      "metadata": {
        "id": "AGwlfgLJimEf"
      }
    },
    {
      "cell_type": "code",
      "source": [
        "PRECIOS = {\"platano\": 1.35, \"manzana\": 0.80, \"pera\": 0.85, \"naranja\": 0.70}\n",
        "menu = \"\"\n",
        "\n",
        "for fruta in PRECIOS:\n",
        "  menu = menu + f\" *{fruta.title()}\\n\"\n",
        "\n",
        "fruta = input(f\"Ingrese una de las siguientes frutas: \\n{menu}\").lower()\n",
        "\n",
        "if fruta in PRECIOS:\n",
        "  kilos = float(input(\"Ingrese la cantidad de kilos: \"))\n",
        "  print(f\"{'-'*50}\\nTotal a pagar: {kilos*PRECIOS[fruta]}\")\n",
        "else:\n",
        "  print(f\"{'-'*50}\\nERROR: {fruta.title()} no esta registrado en el sistema\")"
      ],
      "metadata": {
        "id": "LJxdlj7gil6k",
        "colab": {
          "base_uri": "https://localhost:8080/"
        },
        "outputId": "55e410eb-96d8-4c00-9890-12759ae3d4d4"
      },
      "execution_count": 13,
      "outputs": [
        {
          "output_type": "stream",
          "name": "stdout",
          "text": [
            "Ingrese una de las siguientes frutas: \n",
            " *Platano\n",
            " *Manzana\n",
            " *Pera\n",
            " *Naranja\n",
            "manzana\n",
            "Ingrese la cantidad de kilos: 10\n",
            "--------------------------------------------------\n",
            "Total a pagar: 8.0\n"
          ]
        }
      ]
    },
    {
      "cell_type": "markdown",
      "source": [
        "# **Ejercicio 4**\n",
        "Escribir un programa que pregunte una fecha en formato `dd/mm/aaaa` y muestre por pantalla la misma fecha en formato `dd de <mes> de aaaa` donde `<mes>` es el nombre del mes."
      ],
      "metadata": {
        "id": "l4Kb9NhEce1v"
      }
    },
    {
      "cell_type": "code",
      "source": [
        "MONTHS = {1: \"Enero\",\n",
        "         2: \"Febrero\",\n",
        "         3: \"Marzo\",\n",
        "         4: \"Abril\",\n",
        "         5: \"Mayo\",\n",
        "         6: \"Junio\",\n",
        "         7: \"Julio\",\n",
        "         8: \"Agosto\",\n",
        "         9: \"Septiembre\",\n",
        "         10: \"Octubre\",\n",
        "         11: \"Noviembre\",\n",
        "         12: \"Diciembre\"}\n",
        "\n",
        "day, month, year = input(\"Ingrese la fecha con el formato dd/mm/aaaa: \").split(\"/\")\n",
        "month = int(month)\n",
        "\n",
        "print(f\"{day} de {MONTHS[month]} de {year}\")"
      ],
      "metadata": {
        "colab": {
          "base_uri": "https://localhost:8080/"
        },
        "id": "DNZi0laGceYW",
        "outputId": "24069556-f437-4fb6-e438-8f1c0d112bb3"
      },
      "execution_count": 19,
      "outputs": [
        {
          "output_type": "stream",
          "name": "stdout",
          "text": [
            "Ingrese la fecha con el formato dd/mm/aaaa: 11/11/2022\n",
            "11 de Noviembre de 2022\n"
          ]
        }
      ]
    },
    {
      "cell_type": "code",
      "source": [],
      "metadata": {
        "id": "WLMbROkHdD6_"
      },
      "execution_count": null,
      "outputs": []
    }
  ]
}