{
  "nbformat": 4,
  "nbformat_minor": 0,
  "metadata": {
    "colab": {
      "provenance": [],
      "authorship_tag": "ABX9TyOmSdKUBVClrLoK3tMERQtS",
      "include_colab_link": true
    },
    "kernelspec": {
      "name": "python3",
      "display_name": "Python 3"
    },
    "language_info": {
      "name": "python"
    }
  },
  "cells": [
    {
      "cell_type": "markdown",
      "metadata": {
        "id": "view-in-github",
        "colab_type": "text"
      },
      "source": [
        "<a href=\"https://colab.research.google.com/github/Juansecod/aprende-con-ALF/blob/main/funciones/funciones.ipynb\" target=\"_parent\"><img src=\"https://colab.research.google.com/assets/colab-badge.svg\" alt=\"Open In Colab\"/></a>"
      ]
    },
    {
      "cell_type": "markdown",
      "source": [
        "# **Ejercicio 1**\n",
        "Escribir una función que muestre por pantalla el saludo `¡Hola amiga!` cada vez que se la invoque."
      ],
      "metadata": {
        "id": "IvnqadkaVzsU"
      }
    },
    {
      "cell_type": "code",
      "execution_count": 1,
      "metadata": {
        "colab": {
          "base_uri": "https://localhost:8080/"
        },
        "id": "8YQLFHwHVjgu",
        "outputId": "23bd7052-3508-4189-d153-80eb872a4901"
      },
      "outputs": [
        {
          "output_type": "stream",
          "name": "stdout",
          "text": [
            "¡Hola amiga!\n"
          ]
        }
      ],
      "source": [
        "def saludar():\n",
        "  print(\"¡Hola amiga!\")\n",
        "\n",
        "saludar()"
      ]
    },
    {
      "cell_type": "markdown",
      "source": [
        "# **Ejercicio 2**\n",
        "Escribir una función a la que se le pase una cadena `<nombre>` y muestre por pantalla el saludo `¡hola <nombre>!`."
      ],
      "metadata": {
        "id": "hsQwtUBPV4TN"
      }
    },
    {
      "cell_type": "code",
      "source": [
        "def saludar(nombre = \"amig@\"):\n",
        "  print(f\"¡Hola {nombre}!\")\n",
        "\n",
        "saludar()\n",
        "saludar('juan')"
      ],
      "metadata": {
        "colab": {
          "base_uri": "https://localhost:8080/"
        },
        "id": "bfW-w2V0V3-c",
        "outputId": "54f238ce-5354-4b4b-fb51-ddca35f4acdf"
      },
      "execution_count": 2,
      "outputs": [
        {
          "output_type": "stream",
          "name": "stdout",
          "text": [
            "¡Hola amig@!\n",
            "¡Hola juan!\n"
          ]
        }
      ]
    },
    {
      "cell_type": "markdown",
      "source": [
        "# **Ejercicio 3**\n",
        "Escribir una función que reciba un número entero positivo y devuelva su factorial."
      ],
      "metadata": {
        "id": "4iyDwPRPV4_Q"
      }
    },
    {
      "cell_type": "code",
      "source": [
        "## Recursividad ##\n",
        "def factorial(n):\n",
        "  if n == 0:\n",
        "    return 1\n",
        "  return n * factorial(n-1)\n",
        "\n",
        "print(factorial(4))\n",
        "print(factorial(20))"
      ],
      "metadata": {
        "colab": {
          "base_uri": "https://localhost:8080/"
        },
        "id": "SG-lYl4JV4p4",
        "outputId": "d30fa5c4-7180-4d3c-dee9-a920c1e7ff1c"
      },
      "execution_count": 6,
      "outputs": [
        {
          "output_type": "stream",
          "name": "stdout",
          "text": [
            "24\n",
            "2432902008176640000\n"
          ]
        }
      ]
    },
    {
      "cell_type": "code",
      "source": [
        "## Solucion Alf ##\n",
        "def factorial(n):\n",
        "    \"\"\"Función que calcula el factorial de un número entero positivo.\n",
        "    Parámetros\n",
        "    n: Es un entero positivo.\n",
        "    Devuelve el factorial de n.\n",
        "    \"\"\"\n",
        "    tmp = 1\n",
        "    for i in range(n):\n",
        "        tmp *= i+1\n",
        "    return tmp\n",
        "\n",
        "print(factorial(4))\n",
        "print(factorial(20))"
      ],
      "metadata": {
        "colab": {
          "base_uri": "https://localhost:8080/"
        },
        "id": "gOJGdgLM9POZ",
        "outputId": "d426e356-4a44-44ee-9bf0-175e67382f94"
      },
      "execution_count": 7,
      "outputs": [
        {
          "output_type": "stream",
          "name": "stdout",
          "text": [
            "24\n",
            "2432902008176640000\n"
          ]
        }
      ]
    },
    {
      "cell_type": "markdown",
      "source": [
        "# **Ejercicio 4**\n",
        "Escribir una función que calcule el total de una factura tras aplicarle el IVA. La función debe recibir la cantidad sin IVA y el porcentaje de IVA a aplicar, y devolver el total de la factura. Si se invoca la función sin pasarle el porcentaje de IVA, deberá aplicar un 21%."
      ],
      "metadata": {
        "id": "mKNBcqAR9n9x"
      }
    },
    {
      "cell_type": "code",
      "source": [
        "def total_iva(subtotal, IVA = 21):\n",
        "  return subtotal * ((IVA / 100) + 1)\n",
        "\n",
        "print(total_iva(1000,10))\n",
        "print(total_iva(1000))"
      ],
      "metadata": {
        "colab": {
          "base_uri": "https://localhost:8080/"
        },
        "id": "ylk-WNk49QRF",
        "outputId": "a95f5924-9028-490d-df5a-91055be358da"
      },
      "execution_count": 9,
      "outputs": [
        {
          "output_type": "stream",
          "name": "stdout",
          "text": [
            "1100.0\n",
            "1210.0\n"
          ]
        }
      ]
    },
    {
      "cell_type": "markdown",
      "source": [
        "# **Ejercicio 5**\n",
        "Escribir una función que calcule el área de un círculo y otra que calcule el volumen de un cilindro usando la primera función."
      ],
      "metadata": {
        "id": "AralvDIY9rVy"
      }
    },
    {
      "cell_type": "code",
      "source": [
        "from math import pi\n",
        "\n",
        "def area_circulo(radio):\n",
        "  return pi * radio ** 2\n",
        "\n",
        "def volumen_cilindro(radio, altura):\n",
        "  return area_circulo(radio) * altura\n",
        "\n",
        "print(volumen_cilindro(3,5))"
      ],
      "metadata": {
        "colab": {
          "base_uri": "https://localhost:8080/"
        },
        "id": "dNdJ0_2L9s6q",
        "outputId": "d4b76447-5f80-4f81-c7ba-e751b49fb4a2"
      },
      "execution_count": 11,
      "outputs": [
        {
          "output_type": "stream",
          "name": "stdout",
          "text": [
            "141.3716694115407\n"
          ]
        }
      ]
    },
    {
      "cell_type": "markdown",
      "source": [
        "# **Ejercicio 6**\n",
        "Escribir una función que reciba una muestra de números en una lista y devuelva su media."
      ],
      "metadata": {
        "id": "8VCO-Mc09tVC"
      }
    },
    {
      "cell_type": "code",
      "source": [
        "def media(muestra = []):\n",
        "  return sum(muestra) / len(muestra)\n",
        "\n",
        "print(media([1, 2, 3, 4, 5]))\n",
        "print(media([2.3, 5.7, 6.8, 9.7, 12.1, 15.6]))"
      ],
      "metadata": {
        "colab": {
          "base_uri": "https://localhost:8080/"
        },
        "id": "-ssCjSR29t0b",
        "outputId": "ad0aa4ad-4c9d-43cd-b577-c805d58af2d0"
      },
      "execution_count": 15,
      "outputs": [
        {
          "output_type": "stream",
          "name": "stdout",
          "text": [
            "3.0\n",
            "8.700000000000001\n"
          ]
        }
      ]
    },
    {
      "cell_type": "markdown",
      "source": [
        "# **Ejercicio 7**\n",
        "Escribir una función que reciba una muestra de números en una lista y devuelva otra lista con sus cuadrados."
      ],
      "metadata": {
        "id": "ed_dC5Ob9u6c"
      }
    },
    {
      "cell_type": "code",
      "source": [
        "def potencias(muestra = []):\n",
        "  return list(map(lambda x : x**2, muestra))\n",
        "\n",
        "print(potencias([1,2,3,4]))"
      ],
      "metadata": {
        "colab": {
          "base_uri": "https://localhost:8080/"
        },
        "id": "PcPwxm2n9vNY",
        "outputId": "96f9fdfa-3315-4d48-a6ff-eb8b4f2f2415"
      },
      "execution_count": 17,
      "outputs": [
        {
          "output_type": "stream",
          "name": "stdout",
          "text": [
            "[1, 4, 9, 16]\n"
          ]
        }
      ]
    },
    {
      "cell_type": "markdown",
      "source": [
        "# **Ejercicio 8**\n",
        "Escribir una función que reciba una muestra de números en una lista y devuelva un diccionario con su media, varianza y desviación típica."
      ],
      "metadata": {
        "id": "GMC74mUT9wWF"
      }
    },
    {
      "cell_type": "code",
      "source": [
        "def sumatoria(muestra, media):\n",
        "  sumatoria = 0\n",
        "  for valor in muestra:\n",
        "    sumatoria += (valor - media) ** 2\n",
        "  return sumatoria\n",
        "\n",
        "def datos_estadisticos(muestra = []):\n",
        "  media = sum(muestra) / len(muestra)\n",
        "  varianza = sumatoria(muestra, media) / len(muestra)\n",
        "  desviacion = varianza ** 0.5\n",
        "  return {'media': media, 'varianza': varianza, 'desviacion_tipica': desviacion}\n",
        "\n",
        "print(datos_estadisticos([1, 2, 3, 4, 5]))\n",
        "print(datos_estadisticos([2.3, 5.7, 6.8, 9.7, 12.1, 15.6]))\n"
      ],
      "metadata": {
        "colab": {
          "base_uri": "https://localhost:8080/"
        },
        "id": "Ah1adpAK9wnY",
        "outputId": "895e46ae-516b-497a-d6e2-b21092d4be11"
      },
      "execution_count": 21,
      "outputs": [
        {
          "output_type": "stream",
          "name": "stdout",
          "text": [
            "{'media': 3.0, 'varianza': 2.0, 'desviacion_tipica': 1.4142135623730951}\n",
            "{'media': 8.700000000000001, 'varianza': 18.956666666666663, 'desviacion_tipica': 4.353925431913902}\n"
          ]
        }
      ]
    },
    {
      "cell_type": "markdown",
      "source": [
        "# **Ejercicio 9**\n",
        "Escribir una función que calcule el máximo común divisor de dos números y otra que calcule el mínimo común múltiplo."
      ],
      "metadata": {
        "id": "kRxNszAL9w1v"
      }
    },
    {
      "cell_type": "code",
      "source": [
        "def mcd(n, m):\n",
        "  rest = 0\n",
        "  while(m > 0):\n",
        "      rest = m\n",
        "      m = n % m\n",
        "      n = rest\n",
        "  return n\n",
        "\n",
        "def mcm(n, m):\n",
        "  if n > m:\n",
        "      greater = n\n",
        "  else:\n",
        "      greater = m\n",
        "  while (greater % n != 0) or (greater % m != 0):\n",
        "      greater += 1\n",
        "  return greater\n",
        "\n",
        "print(mcd(24,36))\n",
        "print(mcm(24,36))"
      ],
      "metadata": {
        "colab": {
          "base_uri": "https://localhost:8080/"
        },
        "id": "Yk74TfEI9xGO",
        "outputId": "e8280016-661c-436a-e4b6-ffce73383b7d"
      },
      "execution_count": 22,
      "outputs": [
        {
          "output_type": "stream",
          "name": "stdout",
          "text": [
            "12\n",
            "72\n"
          ]
        }
      ]
    },
    {
      "cell_type": "markdown",
      "source": [
        "# **Ejercicio 10**\n",
        "Escribir una función que convierta un número decimal en binario y otra que convierta un número binario en decimal."
      ],
      "metadata": {
        "id": "dN3kf8c19xe3"
      }
    },
    {
      "cell_type": "code",
      "source": [
        "def dec_bin(n):\n",
        "  binary = []\n",
        "  while n > 0:\n",
        "      binary.append(str(n % 2))\n",
        "      n //= 2\n",
        "  binary.reverse()\n",
        "  return ''.join(binary)\n",
        "\n",
        "def bin_dec(n):\n",
        "  n = list(n)\n",
        "  n.reverse()\n",
        "  decimal = 0\n",
        "  for i in range(len(n)):\n",
        "      decimal += int(n[i]) * 2 ** i\n",
        "  return decimal\n",
        "\n",
        "print(bin_dec('10110'))\n",
        "print(dec_bin(22))\n",
        "print(bin_dec(dec_bin(22)))\n",
        "print(dec_bin(bin_dec('10110')))"
      ],
      "metadata": {
        "colab": {
          "base_uri": "https://localhost:8080/"
        },
        "id": "0hKyPbNv9x-u",
        "outputId": "9d16c01d-e4c0-4d4f-e5ab-b311831f2dd4"
      },
      "execution_count": 39,
      "outputs": [
        {
          "output_type": "stream",
          "name": "stdout",
          "text": [
            "22\n",
            "10110\n",
            "22\n",
            "10110\n"
          ]
        }
      ]
    },
    {
      "cell_type": "markdown",
      "source": [
        "# **Ejercicio 11**\n",
        "Escribir un programa que reciba una cadena de caracteres y devuelva un diccionario con cada palabra que contiene y su frecuencia. Escribir otra función que reciba el diccionario generado con la función anterior y devuelva una tupla con la palabra más repetida y su frecuencia."
      ],
      "metadata": {
        "id": "N1Otmv-09yOr"
      }
    },
    {
      "cell_type": "code",
      "source": [
        "def count_words(string = ''):\n",
        "  array = string.split(\" \")\n",
        "  words = {}\n",
        "  for word in array:\n",
        "    if word in words:\n",
        "        words[word] += 1\n",
        "    else:\n",
        "        words[word] = 1\n",
        "  return words\n",
        "\n",
        "def most_repeated(dictionary = {}):\n",
        "  frequency = 0\n",
        "  for word in dictionary:\n",
        "    if frequency < dictionary[word]:\n",
        "      frequency = dictionary[word]\n",
        "      famous_word = word\n",
        "  return (famous_word, frequency)\n",
        "\n",
        "text = 'Como quieres que te quiera si el que quiero que me quiera no me quiere como quiero que me quiera'\n",
        "print(count_words(text))\n",
        "print(most_repeated(count_words(text)))"
      ],
      "metadata": {
        "colab": {
          "base_uri": "https://localhost:8080/"
        },
        "id": "LTNb3kZg9yho",
        "outputId": "a4825db9-73af-457a-f271-012dd637bc18"
      },
      "execution_count": 47,
      "outputs": [
        {
          "output_type": "stream",
          "name": "stdout",
          "text": [
            "{'Como': 1, 'quieres': 1, 'que': 4, 'te': 1, 'quiera': 3, 'si': 1, 'el': 1, 'quiero': 2, 'me': 3, 'no': 1, 'quiere': 1, 'como': 1}\n",
            "('que', 4)\n"
          ]
        }
      ]
    }
  ]
}