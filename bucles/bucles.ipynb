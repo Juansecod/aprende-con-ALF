{
  "nbformat": 4,
  "nbformat_minor": 0,
  "metadata": {
    "colab": {
      "provenance": [],
      "collapsed_sections": [
        "TzKTXJdWtsFp",
        "gFmbtGIxuHy_",
        "-WGnJNJqujtE",
        "dHuHYo6BvtEX",
        "bE-GZ32gwpaJ",
        "xfmcVvdQMPoS",
        "Kq_hjvayM6c7",
        "9dJNBdq_PSfa",
        "Jv40ZlRdR6l-",
        "atBYwfH_R96B",
        "2ynW83seTh7o",
        "OY2oY_N4Un-w",
        "2BZhe-TxVi3M"
      ],
      "authorship_tag": "ABX9TyNbfhxI0u6QVWpiK5J6h+WI",
      "include_colab_link": true
    },
    "kernelspec": {
      "name": "python3",
      "display_name": "Python 3"
    },
    "language_info": {
      "name": "python"
    }
  },
  "cells": [
    {
      "cell_type": "markdown",
      "metadata": {
        "id": "view-in-github",
        "colab_type": "text"
      },
      "source": [
        "<a href=\"https://colab.research.google.com/github/Juansecod/aprende-con-ALF/blob/main/bucles/bucles.ipynb\" target=\"_parent\"><img src=\"https://colab.research.google.com/assets/colab-badge.svg\" alt=\"Open In Colab\"/></a>"
      ]
    },
    {
      "cell_type": "markdown",
      "source": [
        "# **Ejercicio 1**\n",
        "Escribir un programa que pida al usuario una palabra y la muestre por pantalla 10 veces."
      ],
      "metadata": {
        "id": "TzKTXJdWtsFp"
      }
    },
    {
      "cell_type": "code",
      "execution_count": null,
      "metadata": {
        "id": "tWMVVCNZv1vP",
        "colab": {
          "base_uri": "https://localhost:8080/"
        },
        "outputId": "8d3e091c-2183-4cc4-b3d2-d17c0493238e"
      },
      "outputs": [
        {
          "output_type": "stream",
          "name": "stdout",
          "text": [
            "Ingresa una palabra: Hola\n",
            "Hola\n",
            "Hola\n",
            "Hola\n",
            "Hola\n",
            "Hola\n",
            "Hola\n",
            "Hola\n",
            "Hola\n",
            "Hola\n",
            "Hola\n"
          ]
        }
      ],
      "source": [
        "palabra = input(\"Ingresa una palabra: \")\n",
        "\n",
        "for i in range(10):\n",
        "  print(palabra)"
      ]
    },
    {
      "cell_type": "markdown",
      "source": [
        "# **Ejercicio 2**\n",
        "Escribir un programa que pregunte al usuario su edad y muestre por pantalla todos los años que ha cumplido (desde 1 hasta su edad)."
      ],
      "metadata": {
        "id": "gFmbtGIxuHy_"
      }
    },
    {
      "cell_type": "code",
      "source": [
        "n = int(input(\"Ingresa tu edad: \"))\n",
        "\n",
        "for i in range(1, n+1):\n",
        "  print(f\"Has cumplido {i} años\")"
      ],
      "metadata": {
        "colab": {
          "base_uri": "https://localhost:8080/"
        },
        "id": "k67Ov2Z4uOMR",
        "outputId": "904f692c-5a56-415c-89a5-2b911731961a"
      },
      "execution_count": null,
      "outputs": [
        {
          "output_type": "stream",
          "name": "stdout",
          "text": [
            "Ingresa tu edad: 5\n",
            "Has cumplido 1 años\n",
            "Has cumplido 2 años\n",
            "Has cumplido 3 años\n",
            "Has cumplido 4 años\n",
            "Has cumplido 5 años\n"
          ]
        }
      ]
    },
    {
      "cell_type": "markdown",
      "source": [
        "# **Ejercicio 3**\n",
        "Escribir un programa que pida al usuario un número entero positivo y muestre por pantalla todos los números impares desde 1 hasta ese número separados por comas."
      ],
      "metadata": {
        "id": "-WGnJNJqujtE"
      }
    },
    {
      "cell_type": "code",
      "source": [
        "n = int(input(\"Ingrese un entero positivo: \"))\n",
        "end = \", \"\n",
        "\n",
        "for i in range(n+1):\n",
        "  if i == n or i+1 == n:\n",
        "    end = \"\"\n",
        "\n",
        "  if(i % 2 != 0):\n",
        "    print(i, end=end)"
      ],
      "metadata": {
        "colab": {
          "base_uri": "https://localhost:8080/"
        },
        "id": "PbVf6XzTuusu",
        "outputId": "c4806b90-81ad-4a2c-d2d2-9cc85afb8dcd"
      },
      "execution_count": null,
      "outputs": [
        {
          "output_type": "stream",
          "name": "stdout",
          "text": [
            "Ingrese un entero positivo: 11\n",
            "1, 3, 5, 7, 9, 11"
          ]
        }
      ]
    },
    {
      "cell_type": "code",
      "source": [
        "n = int(input(\"Introduce un número entero positivo: \"))\n",
        "for i in range(1, n+1, 2):\n",
        "    print(i, end=\", \")"
      ],
      "metadata": {
        "colab": {
          "base_uri": "https://localhost:8080/"
        },
        "id": "nbJVELgLvkwO",
        "outputId": "2389cc18-4135-4935-84aa-fd5e4f107c04"
      },
      "execution_count": null,
      "outputs": [
        {
          "output_type": "stream",
          "name": "stdout",
          "text": [
            "Introduce un número entero positivo: 11\n",
            "1, 3, 5, 7, 9, 11, "
          ]
        }
      ]
    },
    {
      "cell_type": "markdown",
      "source": [
        "# **Ejercicio 4**\n",
        "Escribir un programa que pida al usuario un número entero positivo y muestre por pantalla la cuenta atrás desde ese número hasta cero separados por comas.\n"
      ],
      "metadata": {
        "id": "dHuHYo6BvtEX"
      }
    },
    {
      "cell_type": "code",
      "source": [
        "n = int(input(\"Ingrese un entero positivo: \"))\n",
        "end = \", \"\n",
        "for i in range(n, -1, -1):\n",
        "  if i==0:\n",
        "    end = \"\"\n",
        "\n",
        "  print(i, end=end)"
      ],
      "metadata": {
        "colab": {
          "base_uri": "https://localhost:8080/"
        },
        "id": "9dTTv2a1v3ps",
        "outputId": "8ea3ab26-3b42-4770-f293-8edc784db3fa"
      },
      "execution_count": null,
      "outputs": [
        {
          "output_type": "stream",
          "name": "stdout",
          "text": [
            "Ingrese un entero positivo: 10\n",
            "10, 9, 8, 7, 6, 5, 4, 3, 2, 1, 0"
          ]
        }
      ]
    },
    {
      "cell_type": "markdown",
      "source": [
        "# **Ejercicio 5**\n",
        "Escribir un programa que pregunte al usuario una cantidad a invertir, el interés anual y el número de años, y muestre por pantalla el capital obtenido en la inversión cada año que dura la inversión."
      ],
      "metadata": {
        "id": "bE-GZ32gwpaJ"
      }
    },
    {
      "cell_type": "code",
      "source": [
        "from datetime import date\n",
        "\n",
        "inversion = float(input(\"Ingrese la cantidad de invertir: \"))\n",
        "interes = (float(input(\"Ingrese el interes anual: \")) / 100)\n",
        "anos = int(input(\"Ingrese la cantidad de años: \"))\n",
        "\n",
        "year = date.today().year\n",
        "\n",
        "for ano in range(1, anos + 1):\n",
        "  inversion *= 1 + interes\n",
        "  print(f\"El total del año {year + ano} es: {round(inversion, 2)}\")"
      ],
      "metadata": {
        "id": "_ZgCQtobwuv8",
        "colab": {
          "base_uri": "https://localhost:8080/"
        },
        "outputId": "bf1de440-d6d7-41c8-9d6e-323bc8f9d835"
      },
      "execution_count": null,
      "outputs": [
        {
          "output_type": "stream",
          "name": "stdout",
          "text": [
            "Ingrese la cantidad de invertir: 100\n",
            "Ingrese el interes anual: 1\n",
            "Ingrese la cantidad de años: 5\n",
            "El total del año 2024 es: 101.0\n",
            "El total del año 2025 es: 102.01\n",
            "El total del año 2026 es: 103.03\n",
            "El total del año 2027 es: 104.06\n",
            "El total del año 2028 es: 105.1\n"
          ]
        }
      ]
    },
    {
      "cell_type": "markdown",
      "source": [
        "# **Ejercicio 6**\n",
        "Escribir un programa que pida al usuario un número entero y muestre por pantalla un triángulo rectángulo como el de más abajo, de altura el número introducido.\n",
        "\n",
        "```\n",
        "*\n",
        "**\n",
        "***\n",
        "****\n",
        "*****\n",
        "```"
      ],
      "metadata": {
        "id": "xfmcVvdQMPoS"
      }
    },
    {
      "cell_type": "code",
      "source": [
        "n = int(input(\"Ingrese un numero entero: \"))\n",
        "\n",
        "for i in range(1, n+1):\n",
        "  print(\"*\"*i )"
      ],
      "metadata": {
        "colab": {
          "base_uri": "https://localhost:8080/"
        },
        "id": "y0b1Q0rUMa2k",
        "outputId": "9a5b30c1-30e4-4083-da4f-9ac00cc30c06"
      },
      "execution_count": null,
      "outputs": [
        {
          "output_type": "stream",
          "name": "stdout",
          "text": [
            "Ingrese un numero entero: 5\n",
            "*\n",
            "**\n",
            "***\n",
            "****\n",
            "*****\n"
          ]
        }
      ]
    },
    {
      "cell_type": "markdown",
      "source": [
        "# **Ejercicio 7**\n",
        "Escribir un programa que muestre por pantalla la tabla de multiplicar del 1 al 10."
      ],
      "metadata": {
        "id": "Kq_hjvayM6c7"
      }
    },
    {
      "cell_type": "code",
      "source": [
        "from google.colab import output\n",
        "from time import sleep \n",
        "\n",
        "for i in range(1,11):\n",
        "  # Clearing the Screen\n",
        "  output.clear()\n",
        "  for j in range(1, 11):\n",
        "    print(f\"{i} x {j} = {i*j}\")\n",
        "    sleep(0.5)\n",
        "  sleep(1)\n",
        "\n"
      ],
      "metadata": {
        "colab": {
          "base_uri": "https://localhost:8080/"
        },
        "id": "ed0gqnJ8M50T",
        "outputId": "3532f595-6f44-4e06-a792-57f3fe08d887"
      },
      "execution_count": null,
      "outputs": [
        {
          "output_type": "stream",
          "name": "stdout",
          "text": [
            "10 x 1 = 10\n",
            "10 x 2 = 20\n",
            "10 x 3 = 30\n",
            "10 x 4 = 40\n",
            "10 x 5 = 50\n",
            "10 x 6 = 60\n",
            "10 x 7 = 70\n",
            "10 x 8 = 80\n",
            "10 x 9 = 90\n",
            "10 x 10 = 100\n"
          ]
        }
      ]
    },
    {
      "cell_type": "markdown",
      "source": [
        "# **Ejercicio 8**\n",
        "Escribir un programa que pida al usuario un número entero y muestre por pantalla un triángulo rectángulo como el de más abajo.\n",
        "```\n",
        "1\n",
        "3 1\n",
        "5 3 1\n",
        "7 5 3 1\n",
        "9 7 5 3 1\n",
        "```"
      ],
      "metadata": {
        "id": "9dJNBdq_PSfa"
      }
    },
    {
      "cell_type": "code",
      "source": [
        "n = int(input(\"Ingrese un numero entero: \"))\n",
        "numbers = [1]\n",
        "\n",
        "for i in range(n):\n",
        "  for number in numbers:\n",
        "    print(number, end=\" \")\n",
        "  numbers.insert(0,numbers[0]+2)\n",
        "  print()"
      ],
      "metadata": {
        "colab": {
          "base_uri": "https://localhost:8080/"
        },
        "id": "joXP8BCCPTEE",
        "outputId": "5fe93947-7523-486a-9486-4d3743f1a886"
      },
      "execution_count": null,
      "outputs": [
        {
          "output_type": "stream",
          "name": "stdout",
          "text": [
            "Ingrese un numero entero: 5\n",
            "1 \n",
            "3 1 \n",
            "5 3 1 \n",
            "7 5 3 1 \n",
            "9 7 5 3 1 \n"
          ]
        }
      ]
    },
    {
      "cell_type": "code",
      "source": [
        "## Solucion aprende con Alf ##\n",
        "n = int(input(\"Introduce la altura del triángulo (entero positivo): \"))\n",
        "for i in range(1, n+1, 2):\n",
        "    for j in range(i, 0, -2):\n",
        "        print(j, end=\" \")\n",
        "    print(\"\")"
      ],
      "metadata": {
        "colab": {
          "base_uri": "https://localhost:8080/"
        },
        "id": "TbAKT9hbQFuA",
        "outputId": "c329489d-6340-4c8c-ced4-f01f4b89b1c0"
      },
      "execution_count": null,
      "outputs": [
        {
          "output_type": "stream",
          "name": "stdout",
          "text": [
            "Introduce la altura del triángulo (entero positivo): 5\n",
            "1 \n",
            "3 1 \n",
            "5 3 1 \n"
          ]
        }
      ]
    },
    {
      "cell_type": "markdown",
      "source": [
        "# **Ejercicio 9**\n",
        "Escribir un programa que almacene la cadena de caracteres `contraseña` en una variable, pregunte al usuario por la contraseña hasta que introduzca la contraseña correcta."
      ],
      "metadata": {
        "id": "Jv40ZlRdR6l-"
      }
    },
    {
      "cell_type": "code",
      "source": [
        "PASSWORD = \"contraseña\"\n",
        "password_user = None\n",
        "\n",
        "while PASSWORD != password_user:\n",
        "  password_user = input(\"Ingrese la contraseña: \")\n",
        "\n",
        "print(\"Acceso concedido!\")\n"
      ],
      "metadata": {
        "colab": {
          "base_uri": "https://localhost:8080/"
        },
        "id": "1zV0LUAkR9eO",
        "outputId": "de49388c-d1a2-4468-873e-1554a7de10ef"
      },
      "execution_count": null,
      "outputs": [
        {
          "output_type": "stream",
          "name": "stdout",
          "text": [
            "Ingrese la contraseña: 1\n",
            "Ingrese la contraseña: Juan\n",
            "Ingrese la contraseña: contrase;a\n",
            "Ingrese la contraseña: contraseña\n",
            "Acceso concedido!\n"
          ]
        }
      ]
    },
    {
      "cell_type": "markdown",
      "source": [
        "# **Ejercicio 10**\n",
        "Escribir un programa que pida al usuario un número entero y muestre por pantalla si es un número primo o no."
      ],
      "metadata": {
        "id": "atBYwfH_R96B"
      }
    },
    {
      "cell_type": "code",
      "source": [
        "numero = int(input(\"Ingrese un numero: \"))\n",
        "esPrimo = True\n",
        "\n",
        "for i in range(2, numero):\n",
        "  if numero % i == 0:\n",
        "    esPrimo = False\n",
        "\n",
        "print(f\"Es primo: {esPrimo}\")"
      ],
      "metadata": {
        "colab": {
          "base_uri": "https://localhost:8080/"
        },
        "id": "kR3A1v1JS7mx",
        "outputId": "2862457a-980c-4040-b3db-e30bdb15db44"
      },
      "execution_count": null,
      "outputs": [
        {
          "output_type": "stream",
          "name": "stdout",
          "text": [
            "Ingrese un numero: 33\n",
            "Es primo: False\n"
          ]
        }
      ]
    },
    {
      "cell_type": "markdown",
      "source": [
        "# **Ejercicio 11**\n",
        "Escribir un programa que pida al usuario una palabra y luego muestre por pantalla una a una las letras de la palabra introducida empezando por la última."
      ],
      "metadata": {
        "id": "2ynW83seTh7o"
      }
    },
    {
      "cell_type": "code",
      "source": [
        "word = input(\"Ingrese una palabra: \")\n",
        "\n",
        "reverse_word = word[::-1]\n",
        "\n",
        "for letter in reverse_word:\n",
        "  print(letter)"
      ],
      "metadata": {
        "colab": {
          "base_uri": "https://localhost:8080/"
        },
        "id": "2wCHulsjTfqL",
        "outputId": "13266c26-321a-4dab-99b0-818cde75573b"
      },
      "execution_count": null,
      "outputs": [
        {
          "output_type": "stream",
          "name": "stdout",
          "text": [
            "Ingrese una palabra: hola\n",
            "a\n",
            "l\n",
            "o\n",
            "h\n"
          ]
        }
      ]
    },
    {
      "cell_type": "markdown",
      "source": [
        "# **Ejercicio 12**\n",
        "Escribir un programa en el que se pregunte al usuario por una frase y una letra, y muestre por pantalla el número de veces que aparece la letra en la frase."
      ],
      "metadata": {
        "id": "OY2oY_N4Un-w"
      }
    },
    {
      "cell_type": "code",
      "source": [
        "frase = input(\"Ingrese una frase: \")\n",
        "letra = input(\"Ingrese una letra: \")\n",
        "\n",
        "print(f\"La letra '{letra}'' aparece {frase.count(letra)} veces en la frase '{frase}'\")"
      ],
      "metadata": {
        "colab": {
          "base_uri": "https://localhost:8080/"
        },
        "id": "2jr2-IkmUn4r",
        "outputId": "eee39cc6-72bd-4333-e7ce-ff4995fc57c7"
      },
      "execution_count": null,
      "outputs": [
        {
          "output_type": "stream",
          "name": "stdout",
          "text": [
            "Ingrese una frase: hola mundo en java\n",
            "Ingrese una letra: a\n",
            "La letra 'a'' aparece 3 veces en la frase 'hola mundo en java'\n"
          ]
        }
      ]
    },
    {
      "cell_type": "markdown",
      "source": [
        "# **Ejercicio 13**\n",
        "Escribir un programa que muestre el eco de todo lo que el usuario introduzca hasta que el usuario escriba “salir” que terminará."
      ],
      "metadata": {
        "id": "2BZhe-TxVi3M"
      }
    },
    {
      "cell_type": "code",
      "source": [
        "entrada = None\n",
        "\n",
        "while entrada != \"salir\":\n",
        "  print(entrada) if entrada != None else None\n",
        "  entrada = input(\"Ingresa algo: \")\n"
      ],
      "metadata": {
        "colab": {
          "base_uri": "https://localhost:8080/"
        },
        "id": "PzJUQDWuViaU",
        "outputId": "fdb8eadd-048e-42a9-94a4-4d6255877c54"
      },
      "execution_count": null,
      "outputs": [
        {
          "name": "stdout",
          "output_type": "stream",
          "text": [
            "Ingresa algo: salur'\n",
            "salur'\n",
            "Ingresa algo: salir\n"
          ]
        }
      ]
    },
    {
      "cell_type": "code",
      "source": [
        "while True:\n",
        "    frase = input(\"Introduce algo: \")\n",
        "    if frase == \"salir\":\n",
        "        break\n",
        "    print(frase)"
      ],
      "metadata": {
        "id": "G952jeH-WeqH",
        "colab": {
          "base_uri": "https://localhost:8080/"
        },
        "outputId": "eaee2b9d-d0fd-4ca4-e3c6-4f643e97d933"
      },
      "execution_count": 1,
      "outputs": [
        {
          "name": "stdout",
          "output_type": "stream",
          "text": [
            "Introduce algo: Hola\n",
            "Hola\n",
            "Introduce algo: Adios\n",
            "Adios\n",
            "Introduce algo: Terminar\n",
            "Terminar\n",
            "Introduce algo: salir\n"
          ]
        }
      ]
    }
  ]
}