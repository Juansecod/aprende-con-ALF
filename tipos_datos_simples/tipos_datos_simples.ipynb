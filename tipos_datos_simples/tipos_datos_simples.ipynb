{
  "nbformat": 4,
  "nbformat_minor": 0,
  "metadata": {
    "colab": {
      "provenance": [],
      "collapsed_sections": [
        "CUrHoHlag30N",
        "_OFUvlqQh2zC",
        "niapMhABioth",
        "rcJHiGgij-JZ",
        "CKpcYfLRlIyC",
        "PAlaCvGemjwE",
        "37hi6uWDpShL",
        "yshqN_2g2yzT",
        "56LFnL_hiO9T",
        "iMAOOgilkSEq",
        "IB9h9Aa2zkN3",
        "7uRBJnh_3Bhg"
      ],
      "authorship_tag": "ABX9TyO5eRBNBN7wvJzn9eDWjJWE",
      "include_colab_link": true
    },
    "kernelspec": {
      "name": "python3",
      "display_name": "Python 3"
    },
    "language_info": {
      "name": "python"
    }
  },
  "cells": [
    {
      "cell_type": "markdown",
      "metadata": {
        "id": "view-in-github",
        "colab_type": "text"
      },
      "source": [
        "<a href=\"https://colab.research.google.com/github/Juansecod/aprende-con-ALF/blob/main/tipos_datos_simples/tipos_datos_simples.ipynb\" target=\"_parent\"><img src=\"https://colab.research.google.com/assets/colab-badge.svg\" alt=\"Open In Colab\"/></a>"
      ]
    },
    {
      "cell_type": "markdown",
      "source": [
        "# **Ejercicio 1**\n",
        "Escribir un programa que muestre por pantalla la frase ``` ¡Hola mundo! ```\n"
      ],
      "metadata": {
        "id": "CUrHoHlag30N"
      }
    },
    {
      "cell_type": "code",
      "execution_count": null,
      "metadata": {
        "colab": {
          "base_uri": "https://localhost:8080/"
        },
        "id": "wbJuYO70ggeK",
        "outputId": "823d3b97-c2c0-4910-b138-3cce41b4536a"
      },
      "outputs": [
        {
          "output_type": "stream",
          "name": "stdout",
          "text": [
            "¡Hola Mundo!\n"
          ]
        }
      ],
      "source": [
        "print(\"¡Hola Mundo!\")"
      ]
    },
    {
      "cell_type": "markdown",
      "source": [
        "# **Ejercicio 2**\n",
        "Escribir un programa que almacene la cadena `¡Hola Mundo!` en una variable y luego muestre por pantalla el contenido de la variable."
      ],
      "metadata": {
        "id": "_OFUvlqQh2zC"
      }
    },
    {
      "cell_type": "code",
      "execution_count": null,
      "metadata": {
        "colab": {
          "base_uri": "https://localhost:8080/"
        },
        "id": "9Dno6U-_hd7m",
        "outputId": "0304e0d2-eeeb-48d2-c12b-18ad6b3aa9a1"
      },
      "outputs": [
        {
          "output_type": "stream",
          "name": "stdout",
          "text": [
            "¡Hola Mundo!\n"
          ]
        }
      ],
      "source": [
        "message = \"¡Hola Mundo!\"\n",
        "print(message)"
      ]
    },
    {
      "cell_type": "markdown",
      "source": [
        "# **Ejercicio 3**\n",
        "Escribir un programa que pregunte el nombre del usuario en la consola y después de que el usuario lo introduzca muestre por pantalla la cadena `¡Hola <nombre>!`, donde `<nombre>` es el nombre que el usuario haya introducido."
      ],
      "metadata": {
        "id": "niapMhABioth"
      }
    },
    {
      "cell_type": "code",
      "execution_count": null,
      "metadata": {
        "colab": {
          "base_uri": "https://localhost:8080/"
        },
        "id": "K26Xp_BciGiY",
        "outputId": "8027169e-20d6-4517-81ad-b6bd3a52d43f"
      },
      "outputs": [
        {
          "output_type": "stream",
          "name": "stdout",
          "text": [
            "Como te llamas? Juan\n",
            "¡Hola Juan!\n"
          ]
        }
      ],
      "source": [
        "name = input(\"Como te llamas? \")\n",
        "print(f\"¡Hola {name.capitalize()}!\")"
      ]
    },
    {
      "cell_type": "markdown",
      "metadata": {
        "id": "rcJHiGgij-JZ"
      },
      "source": [
        "# **Ejercicio 4**\n",
        "\n",
        "Escribir un programa que muestre por pantalla el resultado de la siguiente operación aritmética $\\left(\\frac{3+2}{2\\cdot 5}\\right)^2$."
      ]
    },
    {
      "cell_type": "code",
      "execution_count": null,
      "metadata": {
        "colab": {
          "background_save": true
        },
        "id": "rPELny3vjkB-",
        "outputId": "f713ec89-4279-4af5-d7e8-9175550e0593"
      },
      "outputs": [
        {
          "name": "stdout",
          "output_type": "stream",
          "text": [
            "0.25\n"
          ]
        }
      ],
      "source": [
        "print(((3+2)/(2*5))**2)"
      ]
    },
    {
      "cell_type": "markdown",
      "source": [
        "# **Ejercicio 5**\n",
        "Escribe un programa que pregunte al usuario por el número de horas trabajadas y el coste por hora. Después debe mostrar por pantalla la paga que le corresponde."
      ],
      "metadata": {
        "id": "CKpcYfLRlIyC"
      }
    },
    {
      "cell_type": "code",
      "execution_count": null,
      "metadata": {
        "colab": {
          "base_uri": "https://localhost:8080/"
        },
        "id": "fiPNPV1skbG5",
        "outputId": "9d1e2c70-f8f4-49c3-8ae9-679c20afe442"
      },
      "outputs": [
        {
          "output_type": "stream",
          "name": "stdout",
          "text": [
            "Cuantas horas trabajo? 200\n",
            "Cuanto es el coste por hora? 1\n",
            "Su paga es $200.0\n"
          ]
        }
      ],
      "source": [
        "hours = float(input(\"Cuantas horas trabajo? \"))\n",
        "price_hour = float(input(\"Cuanto es el coste por hora? \"))\n",
        "print(f\"Su paga es ${hours * price_hour}\")"
      ]
    },
    {
      "cell_type": "markdown",
      "source": [
        "# **Ejercicio 6** \n",
        "Escribir un programa que lea un entero porsitivo, $n$, introducido por el usuario y después muestre en pantalla la suma de todos los enteros desde 1 hasta $n$. La suma de los $n$ primeros enteros positivos puede ser calculada de la siguiente forma: \n",
        "\n",
        "$$ \\mbox{suma} = \\frac{n(n+1)}{2} $$"
      ],
      "metadata": {
        "id": "PAlaCvGemjwE"
      }
    },
    {
      "cell_type": "code",
      "execution_count": null,
      "metadata": {
        "colab": {
          "base_uri": "https://localhost:8080/"
        },
        "id": "X9s9vmiWl0Ol",
        "outputId": "2e6eaeed-285b-42bd-af99-fa1c4b396b79"
      },
      "outputs": [
        {
          "output_type": "stream",
          "name": "stdout",
          "text": [
            "Ingrese el valor de n: 5\n",
            "La suma de los primeros números enteros desde 1 hasta 5 es 15.0\n"
          ]
        }
      ],
      "source": [
        "n = int(input(\"Ingrese el valor de n: \"))\n",
        "suma = n * (n + 1) / 2\n",
        "print(f\"La suma de los primeros números enteros desde 1 hasta {n} es {suma}\")"
      ]
    },
    {
      "cell_type": "markdown",
      "source": [
        "# **Ejercicio 7**\n",
        "Escribir un programa que pida al usuario su peso (en kg) y estatura (en metros), calcule el índice de masa corporal y lo almacene en una variable, e imprima por pantalla la frase `Tu índice de masa corporal es <imc>` donde `<imc>` es el índice de masa corporal calculado redondeado con dos decimales. "
      ],
      "metadata": {
        "id": "37hi6uWDpShL"
      }
    },
    {
      "cell_type": "code",
      "execution_count": null,
      "metadata": {
        "colab": {
          "base_uri": "https://localhost:8080/"
        },
        "id": "zvCbaeX5oDRd",
        "outputId": "a32dcbee-c486-4d89-ba41-ac716e8d6302"
      },
      "outputs": [
        {
          "output_type": "stream",
          "name": "stdout",
          "text": [
            "Cual es su peso? 65\n",
            "Cual es su estatura? 1.65\n",
            "Tu índice de masa corporal es 23.875114784205696\n"
          ]
        }
      ],
      "source": [
        "weight = float(input(\"Cual es su peso? \"))\n",
        "height = float(input(\"Cual es su estatura? \"))\n",
        "imc = weight / (height ** 2)\n",
        "print(f\"Tu índice de masa corporal es {imc}\")"
      ]
    },
    {
      "cell_type": "markdown",
      "source": [
        "# **Ejercicio 8** \n",
        "\n",
        "Escribir un programa que pida al usuario dos números enteros y muestre por pantalla la `<n> entre <m> da un cociente <c> y un resto <r>` donde `<n>` y `<m>` son los números introducidos por el usuario, y `<c>` y `<r>` son el cociente y el resto de la división entera respectivamente."
      ],
      "metadata": {
        "id": "yshqN_2g2yzT"
      }
    },
    {
      "cell_type": "code",
      "execution_count": null,
      "metadata": {
        "colab": {
          "base_uri": "https://localhost:8080/"
        },
        "id": "aueWbQyf1JJz",
        "outputId": "e06d7b58-2725-4b30-fb3c-539f413bd599"
      },
      "outputs": [
        {
          "output_type": "stream",
          "name": "stdout",
          "text": [
            "Ingrese un numero: 4\n",
            "Ingrese un numero: 2\n",
            "4.0 entre 2.0 da un cociente 2.0 y un resto 0.0\n"
          ]
        }
      ],
      "source": [
        "n = float(input(\"Ingrese un numero: \"))\n",
        "m = float(input(\"Ingrese un numero: \"))\n",
        "c = n / m\n",
        "r = n % m\n",
        "print(f\"{n} entre {m} da un cociente {c} y un resto {r}\")      "
      ]
    },
    {
      "cell_type": "markdown",
      "source": [
        "# **Ejercicio 9**\n",
        "Escribir un programa que pregunte al usuario una cantidad a invertir, el interés porcentual anual y el número de años, y muestre por pantalla el capital obtenido en la inversión redondeado con dos decimales."
      ],
      "metadata": {
        "id": "56LFnL_hiO9T"
      }
    },
    {
      "cell_type": "code",
      "execution_count": null,
      "metadata": {
        "colab": {
          "base_uri": "https://localhost:8080/"
        },
        "id": "yGTuZFuHd4-8",
        "outputId": "41a3de05-fbf9-44b1-db4b-a2560df299cb"
      },
      "outputs": [
        {
          "output_type": "stream",
          "name": "stdout",
          "text": [
            "Ingrese la cantidad a invertir: 1000\n",
            "Ingrese el interes anual: 10\n",
            "Ingrese la cantidad de años: 5\n",
            "El capital obtenido es 1610.51\n"
          ]
        }
      ],
      "source": [
        "inversion = float(input(\"Ingrese la cantidad a invertir: \"))\n",
        "interes_anual = float(input(\"Ingrese el interes anual: \"))\n",
        "años = float(input(\"Ingrese la cantidad de años: \"))\n",
        "print(f\"El capital final es ${round((inversion * (interes_anual / 100 + 1) ** años), 2)}\")"
      ]
    },
    {
      "cell_type": "markdown",
      "source": [
        "# **Ejercicio 10**\n",
        "Una juguetería tiene mucho éxito en dos de sus productos: payasos y muñecas. Suele hacer venta por correo y la empresa de logística les cobra por peso de cada paquete así que deben calcular el peso de los payasos y muñecas que saldrán en cada paquete a demanda. Cada payaso pesa 112 g y cada muñeca 75 g. Escribir un programa que lea el número de payasos y muñecas vendidos en el último pedido y calcule el peso total del paquete que será enviado."
      ],
      "metadata": {
        "id": "iMAOOgilkSEq"
      }
    },
    {
      "cell_type": "code",
      "execution_count": null,
      "metadata": {
        "colab": {
          "base_uri": "https://localhost:8080/"
        },
        "id": "BTfvcyfKjUMc",
        "outputId": "58105a4e-e9ca-48d7-dea7-d9a1995b51d2"
      },
      "outputs": [
        {
          "output_type": "stream",
          "name": "stdout",
          "text": [
            "Cantidad de payasos vendidos: 0\n",
            "Cantidad de muñecas vendidas: 1\n",
            "El peso total es de 75 g\n"
          ]
        }
      ],
      "source": [
        "PESO_PAYASO = 112\n",
        "PESO_MUÑECA = 75\n",
        "\n",
        "payasos = int(input(\"Cantidad de payasos vendidos: \"))\n",
        "muñecas = int(input(\"Cantidad de muñecas vendidas: \"))\n",
        "\n",
        "peso_total = PESO_PAYASO * payasos + PESO_MUÑECA * muñecas\n",
        "\n",
        "print(f\"El peso total es de {peso_total} g\")"
      ]
    },
    {
      "cell_type": "markdown",
      "source": [
        "# **Ejercicio 11** \n",
        "Imagina que acabas de abrir una nueva cuenta de ahorros que te ofrece el 4% de interés al año. Estos ahorros debido a intereses, que no se cobran hasta finales de año, se te añaden al balance final de tu cuenta de ahorros. Escribir un programa que comience leyendo la cantidad de dinero depositada en la cuenta de ahorros, introducida por el usuario. Después el programa debe calcular y mostrar por pantalla la cantidad de ahorros tras el primer, segundo y tercer años. Redondear cada cantidad a dos decimales.  "
      ],
      "metadata": {
        "id": "IB9h9Aa2zkN3"
      }
    },
    {
      "cell_type": "code",
      "execution_count": null,
      "metadata": {
        "colab": {
          "base_uri": "https://localhost:8080/"
        },
        "id": "lYvLqqRMyKcr",
        "outputId": "f5fa5f6d-1205-460e-d800-ab0fa0b078de"
      },
      "outputs": [
        {
          "output_type": "stream",
          "name": "stdout",
          "text": [
            "Ingrese los ahorros depositados: 10\n",
            "Tu balance es $10.4\n",
            "Tu balance es $10.82\n",
            "Tu balance es $11.25\n"
          ]
        }
      ],
      "source": [
        "INTERESES = 0.04\n",
        "\n",
        "ahorros = float(input(\"Ingrese los ahorros depositados: \"))\n",
        "\n",
        "for i in range(0,3):\n",
        "  ahorros = round(ahorros + ahorros * INTERESES, 2)\n",
        "  print(f\"Tu balance es ${ahorros}\")"
      ]
    },
    {
      "cell_type": "markdown",
      "source": [
        "# **Ejercicio 12**\n",
        "Una panadería vende barras de pan a 3.49€ cada una. El pan que no es el día tiene un descuento del 60%. Escribe un programa que comience leyendo el número de barras vendidas que no son del día. Después tu programa debe mostrar el precio habitual de una barra de pan, el descuento que se le hace por no ser fresca y el coste final total."
      ],
      "metadata": {
        "id": "7uRBJnh_3Bhg"
      }
    },
    {
      "cell_type": "code",
      "execution_count": null,
      "metadata": {
        "colab": {
          "base_uri": "https://localhost:8080/"
        },
        "id": "AQY5Ne3M0COM",
        "outputId": "f9d91c11-699a-4a05-9ff5-e04f3d2e3c63"
      },
      "outputs": [
        {
          "output_type": "stream",
          "name": "stdout",
          "text": [
            "Cantidad de barras vendidas que no son de hoy: 10\n",
            "--------------------------------------------------\n",
            "Precio habitual: 3.49€\n",
            "Descuento: 60%\n",
            "Total: 14.0€\n",
            "--------------------------------------------------\n"
          ]
        }
      ],
      "source": [
        "PRECIO = 3.49\n",
        "DESCUENTO = 0.6\n",
        "PRECIO_DESCUENTO = round(PRECIO - PRECIO * DESCUENTO, 2)\n",
        "\n",
        "barras_pan = int(input(\"Cantidad de barras vendidas que no son de hoy: \"))\n",
        "total = round(PRECIO_DESCUENTO * barras_pan, 2)\n",
        "\n",
        "print(f\"\"\"{'-'*50}\n",
        "Precio habitual: {PRECIO}€\n",
        "Descuento: {int(DESCUENTO * 100)}%\n",
        "Total: {total}€\n",
        "{'-'*50}\"\"\")"
      ]
    }
  ]
}