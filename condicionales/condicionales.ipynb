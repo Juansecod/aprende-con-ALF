{
  "nbformat": 4,
  "nbformat_minor": 0,
  "metadata": {
    "colab": {
      "provenance": [],
      "collapsed_sections": [
        "o-kfX55xsIEG",
        "Jc-DkXwSwtD3",
        "4Wj2YXO0fhnk",
        "xMQGfrcfhMWJ",
        "3V15Mhafhj1J",
        "7caeFDEATE79",
        "OgGEl1KfYvvF",
        "H6vqrKRQdSZV",
        "XkqFFuFCf6IM"
      ],
      "authorship_tag": "ABX9TyPhsYgiyA+eWe2c1aWwWmfP",
      "include_colab_link": true
    },
    "kernelspec": {
      "name": "python3",
      "display_name": "Python 3"
    },
    "language_info": {
      "name": "python"
    }
  },
  "cells": [
    {
      "cell_type": "markdown",
      "metadata": {
        "id": "view-in-github",
        "colab_type": "text"
      },
      "source": [
        "<a href=\"https://colab.research.google.com/github/Juansecod/aprende-con-ALF/blob/main/condicionales/condicionales.ipynb\" target=\"_parent\"><img src=\"https://colab.research.google.com/assets/colab-badge.svg\" alt=\"Open In Colab\"/></a>"
      ]
    },
    {
      "cell_type": "markdown",
      "source": [
        "# **Ejercicio 1**\n",
        "Escribir un programa que pregunte al usuario su edad y muestre por pantalla si es mayor de edad o no."
      ],
      "metadata": {
        "id": "o-kfX55xsIEG"
      }
    },
    {
      "cell_type": "code",
      "execution_count": 1,
      "metadata": {
        "id": "_Jc8jcjqrdmM",
        "colab": {
          "base_uri": "https://localhost:8080/"
        },
        "outputId": "467c6ad5-ea46-4b76-94be-54472b177c4f"
      },
      "outputs": [
        {
          "output_type": "stream",
          "name": "stdout",
          "text": [
            "Ingrese su edad: 20\n",
            "Es mayor de edad\n"
          ]
        }
      ],
      "source": [
        "edad = int(input(\"Ingrese su edad: \"))\n",
        "\n",
        "if(edad >= 18):\n",
        "  print(\"Es mayor de edad\")\n",
        "else:\n",
        "  print(\"Es menor de edad\")"
      ]
    },
    {
      "cell_type": "markdown",
      "source": [
        "# **Ejercicio 2**\n",
        "Escribir un programa que almacene la cadena de caracteres `contraseña` en una variable, pregunte al usuario por la contraseña e imprima por pantalla si la contraseña introducida por el usuario coincide con la guardada en la variable sin tener en cuenta mayúsculas y minúsculas."
      ],
      "metadata": {
        "id": "Jc-DkXwSwtD3"
      }
    },
    {
      "cell_type": "code",
      "source": [
        "CONTRASEÑA = \"contraseña\"\n",
        "contraseña_usuario = ''\n",
        "\n",
        "while CONTRASEÑA != contraseña_usuario.lower():\n",
        "  if contraseña_usuario == '':\n",
        "    contraseña_usuario = input(\"Ingrese la contraseña: \")\n",
        "  else:\n",
        "    contraseña_usuario = input(\"Intente nuevamente: \")\n",
        "  \n",
        "print(\"Acceso concedido!\")"
      ],
      "metadata": {
        "colab": {
          "base_uri": "https://localhost:8080/"
        },
        "id": "E3_cMYN_wv-m",
        "outputId": "3ca32342-837e-4317-d5f4-a3f9879695c7"
      },
      "execution_count": null,
      "outputs": [
        {
          "output_type": "stream",
          "name": "stdout",
          "text": [
            "Ingrese la contraseña: Juan\n",
            "Intente nuevamente: Hol\n",
            "Intente nuevamente: Contraseña\n",
            "Acceso concedido!\n"
          ]
        }
      ]
    },
    {
      "cell_type": "markdown",
      "source": [
        "# **Ejercicio 3**\n",
        "Escribir un programa que pida al usuario dos números y muestre por pantalla su división. Si el divisor es cero el programa debe mostrar un error."
      ],
      "metadata": {
        "id": "4Wj2YXO0fhnk"
      }
    },
    {
      "cell_type": "code",
      "source": [
        "dividendo = float(input(\"Ingrese un numero: \"))\n",
        "divisor = float(input(\"Ingrese un numero: \"))\n",
        "\n",
        "if divisor == 0:\n",
        "  print(\"ERROR: No se puede dividir por 0\")\n",
        "else:\n",
        "  print(dividendo / divisor)"
      ],
      "metadata": {
        "id": "P9s4G9Info_r",
        "colab": {
          "base_uri": "https://localhost:8080/"
        },
        "outputId": "510c49c7-b208-4b88-df74-3e9851bd2cee"
      },
      "execution_count": 2,
      "outputs": [
        {
          "output_type": "stream",
          "name": "stdout",
          "text": [
            "Ingrese un numero: 10\n",
            "Ingrese un numero: 5\n",
            "2.0\n"
          ]
        }
      ]
    },
    {
      "cell_type": "markdown",
      "source": [
        "# **Ejercicio 4**\n",
        "Escribir un programa que pida al usuario un número entero y muestre por pantalla si es par o impar."
      ],
      "metadata": {
        "id": "xMQGfrcfhMWJ"
      }
    },
    {
      "cell_type": "code",
      "source": [
        "n = float(input(\"Ingrese un numero: \"))\n",
        "\n",
        "if n % 2 == 0:\n",
        "  print(\"Es par!\")\n",
        "else:\n",
        "  print(\"Es impar!\")"
      ],
      "metadata": {
        "colab": {
          "base_uri": "https://localhost:8080/"
        },
        "id": "0-OahyTahVkL",
        "outputId": "32fa6c2b-74ce-4cab-c7b3-dd497650ead8"
      },
      "execution_count": null,
      "outputs": [
        {
          "output_type": "stream",
          "name": "stdout",
          "text": [
            "Ingrese un numero: 11\n",
            "Es impar!\n"
          ]
        }
      ]
    },
    {
      "cell_type": "markdown",
      "source": [
        "# **Ejercicio 5**\n",
        "Para tributar un determinado impuesto se debe ser mayor de 16 años y tener unos ingresos iguales o superiores a 1000 € mensuales. Escribir un programa que pregunte al usuario su edad y sus ingresos mensuales y muestre por pantalla si el usuario tiene que tributar o no."
      ],
      "metadata": {
        "id": "3V15Mhafhj1J"
      }
    },
    {
      "cell_type": "code",
      "source": [
        "edad = int(input(\"Ingresa tu edad: \"))\n",
        "ingresos = int(input(\"Ingrese sus ingresos mensuales: \"))\n",
        "\n",
        "if (edad > 16) and (ingresos >= 1000):\n",
        "  print(\"Debes tributar!!\")\n",
        "else:\n",
        "  print(\"No debes tributar\")"
      ],
      "metadata": {
        "colab": {
          "base_uri": "https://localhost:8080/"
        },
        "id": "19Tf6tVahp5X",
        "outputId": "4358e07b-7b8b-4721-adc8-017170f7de19"
      },
      "execution_count": null,
      "outputs": [
        {
          "output_type": "stream",
          "name": "stdout",
          "text": [
            "Ingresa tu edad: 16\n",
            "Ingrese sus ingresos mensuales: 1000\n",
            "No debes tributar\n"
          ]
        }
      ]
    },
    {
      "cell_type": "markdown",
      "source": [
        "# **Ejercicio 6**\n",
        "Los alumnos de un curso se han dividido en dos grupos A y B de acuerdo al sexo y el nombre. El grupo A esta formado por las mujeres con un nombre anterior a la M y los hombres con un nombre posterior a la N y el grupo B por el resto. Escribir un programa que pregunte al usuario su nombre y sexo, y muestre por pantalla el grupo que le corresponde."
      ],
      "metadata": {
        "id": "7caeFDEATE79"
      }
    },
    {
      "cell_type": "code",
      "source": [
        "nombre = input(\"Ingrese el nombre: \").lower()\n",
        "sexo = input(\"Ingrese el sexo: \").lower()\n",
        "\n",
        "if(nombre < \"m\" and sexo == \"m\") or (nombre > \"n\" and sexo == \"h\"):\n",
        "  print(\"Es del grupo A\")\n",
        "else:\n",
        "  print(\"Es del grupo B\")\n"
      ],
      "metadata": {
        "colab": {
          "base_uri": "https://localhost:8080/"
        },
        "id": "ooy9iao4TL9H",
        "outputId": "15150094-4ce9-47a8-8a4a-9e7ce1077f0e"
      },
      "execution_count": null,
      "outputs": [
        {
          "output_type": "stream",
          "name": "stdout",
          "text": [
            "Ingrese el nombre: Ricardo\n",
            "Ingrese el sexo: H\n",
            "Es del grupo A\n"
          ]
        }
      ]
    },
    {
      "cell_type": "markdown",
      "source": [
        "# **Ejercicio 7**\n",
        "Los tramos impositivos para la declaración de la renta en un determinado país son los siguientes:\n",
        "\n",
        "|         Renta          | Tipo impositivo |\n",
        "| :--------------------: | :-------------: |\n",
        "|    Menos de 10000€     |       5%        |\n",
        "| Entre 10000€ y 20000€  |       15%       |\n",
        "| Entre 20000€ y 35000€  |       20%       |\n",
        "| Entre 35000€ y 60000€  |       30%       |\n",
        "|     Más de 60000€      |       45%       |\n",
        "\n",
        "Escribir un programa que pregunte al usuario su renta anual y muestre por pantalla lo que tiene que pagar."
      ],
      "metadata": {
        "id": "_-4qMwszVCtX"
      }
    },
    {
      "cell_type": "code",
      "source": [
        "renta = int(input(\"Ingrese su renta anual: \"))\n",
        "\n",
        "\n",
        "if(renta < 10000):\n",
        "  tipo = 5\n",
        "elif(renta >= 10000 and renta < 20000):\n",
        "  tipo = 15\n",
        "elif(renta >= 20000 and renta < 35000):\n",
        "  tipo = 20\n",
        "elif(renta >= 35000 and renta < 60000):\n",
        "  tipo = 30\n",
        "else:\n",
        "  tipo = 45\n",
        "  \n",
        "def pago_total(renta, porcentaje = 0):\n",
        "  return renta * (porcentaje / 100)\n",
        "\n",
        "print(f\"Tienes que pagar: {pago_total(renta, tipo)}€\")"
      ],
      "metadata": {
        "colab": {
          "base_uri": "https://localhost:8080/"
        },
        "id": "wz1JtEcvTnAR",
        "outputId": "832e734e-4987-44e5-dc6d-15aa7e46d182"
      },
      "execution_count": null,
      "outputs": [
        {
          "output_type": "stream",
          "name": "stdout",
          "text": [
            "Ingrese su renta anual: 10000\n",
            "Tienes que pagar: 1500.0€\n"
          ]
        }
      ]
    },
    {
      "cell_type": "markdown",
      "source": [
        "# **Ejercicio 8**\n",
        "En una determinada empresa, sus empleados son evaluados al final de cada año. Los puntos que pueden obtener en la evaluación comienzan en 0.0 y pueden ir aumentando, traduciéndose en mejores beneficios. Los puntos que pueden conseguir los empleados pueden ser 0.0, 0.4, 0.6 o más, pero no valores intermedios entre las cifras mencionadas. A continuación se muestra una tabla con los niveles correspondientes a cada puntuación. La cantidad de dinero conseguida en cada nivel es de 2.400€ multiplicada por la puntuación del nivel.\n",
        "\n",
        "|    Nivel    | Puntuación |\n",
        "| :---------: | :--------: |\n",
        "| Inaceptable |    0.0     |\n",
        "|  Aceptable  |    0.4     |\n",
        "|  Meritorio  |    0.6     |\n",
        "\n",
        "Escribir un programa que lea la puntuación del usuario e indique su nivel de rendimiento, así como la cantidad de dinero que recibirá el usuario."
      ],
      "metadata": {
        "id": "OgGEl1KfYvvF"
      }
    },
    {
      "cell_type": "code",
      "source": [
        "PAGO_BASE = 2400\n",
        "\n",
        "INACEPTABLE = 0\n",
        "ACEPTABLE = 0.4\n",
        "MERITORIO = 0.6\n",
        "\n",
        "calificacion = float(input(\"Ingrese la cantidad de puntos del empleado: \"))\n",
        "\n",
        "def tipo(calificacion):\n",
        "  if(calificacion == INACEPTABLE):\n",
        "    return \"Inaceptable\"\n",
        "  elif(calificacion == ACEPTABLE):\n",
        "    return \"Aceptable\"\n",
        "  elif(calificacion >= MERITORIO):\n",
        "    return \"Meritorio\"\n",
        "\n",
        "if calificacion == INACEPTABLE or calificacion == ACEPTABLE or calificacion >= MERITORIO:\n",
        "  print(f\"Tiene una calificacion: {tipo(calificacion)}\")\n",
        "  print(\"Total a pagar: %.2f€\" % (calificacion * PAGO_BASE)) \n",
        "else:\n",
        "  print(\"ERROR: Calificacion no valida\")"
      ],
      "metadata": {
        "colab": {
          "base_uri": "https://localhost:8080/"
        },
        "id": "iJCsWGNJZ-Em",
        "outputId": "5f637585-8bd2-4509-c3de-c81812bf7d9b"
      },
      "execution_count": null,
      "outputs": [
        {
          "output_type": "stream",
          "name": "stdout",
          "text": [
            "Ingrese la cantidad de puntos del empleado: 0.0\n",
            "Tiene una calificacion: Inaceptable\n",
            "Total a pagar: 0.00€\n"
          ]
        }
      ]
    },
    {
      "cell_type": "markdown",
      "source": [
        "# **Ejercicio 9**\n",
        "Escribir un programa para una empresa que tiene salas de juegos para todas las edades y quiere calcular de forma automática el precio que debe cobrar a sus clientes por entrar. El programa debe preguntar al usuario la edad del cliente y mostrar el precio de la entrada. Si el cliente es menor de 4 años puede entrar gratis, si tiene entre 4 y 18 años debe pagar 5€ y si es mayor de 18 años, 10€.\n"
      ],
      "metadata": {
        "id": "H6vqrKRQdSZV"
      }
    },
    {
      "cell_type": "code",
      "source": [
        "NIÑO = 4\n",
        "ADOLECENTE = 18\n",
        "\n",
        "edad = int(input(\"Ingrese la edad del cliente: \"))\n",
        "\n",
        "if(edad < NIÑO):\n",
        "  precio = 0\n",
        "elif(NIÑO <= edad and edad <= ADOLECENTE):\n",
        "  precio = 5\n",
        "else:\n",
        "  precio = 10\n",
        "\n",
        "print(f\"Valor entrada: {precio}€\")"
      ],
      "metadata": {
        "id": "4Gk2DCTfdRrS",
        "colab": {
          "base_uri": "https://localhost:8080/"
        },
        "outputId": "a5515a9d-d85c-450a-b9f6-a0d083d6ebbe"
      },
      "execution_count": 3,
      "outputs": [
        {
          "output_type": "stream",
          "name": "stdout",
          "text": [
            "Ingrese la edad del cliente: 15\n",
            "Valor entrada: 5€\n"
          ]
        }
      ]
    },
    {
      "cell_type": "markdown",
      "source": [
        "# **Ejercicio 10**\n",
        "La pizzería Bella Napoli ofrece pizzas vegetarianas y no vegetarianas a sus clientes. Los ingredientes para cada tipo de pizza aparecen a continuación.\n",
        "\n",
        "\n",
        "*   Ingredientes vegetarianos: Pimiento y tofu.\n",
        "*   Ingredientes no vegetarianos: Peperoni, Jamón y Salmón.\n",
        "\n",
        "Escribir un programa que pregunte al usuario si quiere una pizza vegetariana o no, y en función de su respuesta le muestre un menú con los ingredientes disponibles para que elija. Solo se puede eligir un ingrediente además de la mozzarella y el tomate que están en todas la pizzas. Al final se debe mostrar por pantalla si la pizza elegida es vegetariana o no y todos los ingredientes que lleva."
      ],
      "metadata": {
        "id": "XkqFFuFCf6IM"
      }
    },
    {
      "cell_type": "code",
      "source": [
        "ingredientes = [\"Mozzarella\", \"Tomate\"]\n",
        "VEGETARIANA = [\"Pimiento\", \"Tofu\"]\n",
        "NO_VEGETARIANA = [\"Peperoni\", \"Jamon\", \"Salmon\"]\n",
        "TIPOS = {\n",
        "    1: \"Vegetariana\",\n",
        "    2: \"No vegetariana\"\n",
        "}\n",
        "\n",
        "print(\"Bienvenido a la pizzeria Bella Napoli.\\nTipos de pizza\\n\\t1- Vegetariana\\n\\t2- No vegetariana\")\n",
        "tipo = int(input(\"Ingrese el tipo de pizza: \"))\n",
        "\n",
        "if tipo == 1 or tipo == 2:\n",
        "  print(\"-\" * 50) \n",
        "  print(\"Ingredientes disponibles:\")\n",
        "  if(tipo == 1):\n",
        "    print(\"\\t*Pimiento \\n\\t*Tofu.\")\n",
        "  elif(tipo == 2):\n",
        "    print(\"\\t*Peperoni \\n\\t*Jamon \\n\\t*Salmon\")\n",
        "\n",
        "  ingredientes.append(input(\"\\nIngrese el ingredente que desea: \"))\n",
        "\n",
        "  if (ingredientes[len(ingredientes)-1] in VEGETARIANA and 1 == tipo) or (ingredientes[len(ingredientes)-1] in NO_VEGETARIANA and 2 == tipo):\n",
        "    print(\"-\"*50)\n",
        "    print(f\"Tipo: {TIPOS[tipo].title()}\")\n",
        "    print(\"-\"*50)\n",
        "    print(\"Ingredientes: \",\", \".join(ingredientes).title())\n",
        "  else:\n",
        "    print(\"-\" * 50)\n",
        "    print(\"ERROR: Ingrediente no valido\")\n",
        "else:\n",
        "  print(\"-\" * 50)\n",
        "  print(\"ERROR: Tipo no valido\")\n"
      ],
      "metadata": {
        "colab": {
          "base_uri": "https://localhost:8080/"
        },
        "id": "sEGHJfTTgKmc",
        "outputId": "94dcd969-34bc-4e8e-f1b3-15ea2023279a"
      },
      "execution_count": null,
      "outputs": [
        {
          "output_type": "stream",
          "name": "stdout",
          "text": [
            "Bienvenido a la pizzeria Bella Napoli.\n",
            "Tipos de pizza\n",
            "\t1- Vegetariana\n",
            "\t2- No vegetariana\n",
            "Ingrese el tipo de pizza: 1\n",
            "--------------------------------------------------\n",
            "Ingredientes disponibles:\n",
            "\t*Pimiento \n",
            "\t*Tofu.\n",
            "\n",
            "Ingrese el ingredente que desea: Pimiento\n",
            "--------------------------------------------------\n",
            "Tipo: Vegetariana\n",
            "--------------------------------------------------\n",
            "Ingredientes:  Mozzarella, Tomate, Pimiento\n"
          ]
        }
      ]
    }
  ]
}